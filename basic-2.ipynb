{
 "cells": [
  {
   "cell_type": "code",
   "execution_count": 1,
   "id": "5a147e13",
   "metadata": {},
   "outputs": [],
   "source": [
    "# most of the methods and attributes of series are applicable of dataframe also"
   ]
  },
  {
   "cell_type": "code",
   "execution_count": 4,
   "id": "79732d80",
   "metadata": {
    "scrolled": true
   },
   "outputs": [
    {
     "data": {
      "text/html": [
       "<div>\n",
       "<style scoped>\n",
       "    .dataframe tbody tr th:only-of-type {\n",
       "        vertical-align: middle;\n",
       "    }\n",
       "\n",
       "    .dataframe tbody tr th {\n",
       "        vertical-align: top;\n",
       "    }\n",
       "\n",
       "    .dataframe thead th {\n",
       "        text-align: right;\n",
       "    }\n",
       "</style>\n",
       "<table border=\"1\" class=\"dataframe\">\n",
       "  <thead>\n",
       "    <tr style=\"text-align: right;\">\n",
       "      <th></th>\n",
       "      <th>id</th>\n",
       "      <th>name of students</th>\n",
       "      <th>marks</th>\n",
       "    </tr>\n",
       "  </thead>\n",
       "  <tbody>\n",
       "    <tr>\n",
       "      <th>0</th>\n",
       "      <td>1</td>\n",
       "      <td>nikhil</td>\n",
       "      <td>200</td>\n",
       "    </tr>\n",
       "    <tr>\n",
       "      <th>1</th>\n",
       "      <td>2</td>\n",
       "      <td>arun</td>\n",
       "      <td>300</td>\n",
       "    </tr>\n",
       "    <tr>\n",
       "      <th>2</th>\n",
       "      <td>3</td>\n",
       "      <td>pinky</td>\n",
       "      <td>400</td>\n",
       "    </tr>\n",
       "    <tr>\n",
       "      <th>3</th>\n",
       "      <td>4</td>\n",
       "      <td>simmi</td>\n",
       "      <td>500</td>\n",
       "    </tr>\n",
       "    <tr>\n",
       "      <th>4</th>\n",
       "      <td>5</td>\n",
       "      <td>prakriti</td>\n",
       "      <td>400</td>\n",
       "    </tr>\n",
       "    <tr>\n",
       "      <th>5</th>\n",
       "      <td>6</td>\n",
       "      <td>vinay</td>\n",
       "      <td>800</td>\n",
       "    </tr>\n",
       "    <tr>\n",
       "      <th>6</th>\n",
       "      <td>7</td>\n",
       "      <td>himanshu</td>\n",
       "      <td>900</td>\n",
       "    </tr>\n",
       "    <tr>\n",
       "      <th>7</th>\n",
       "      <td>8</td>\n",
       "      <td>riya</td>\n",
       "      <td>1000</td>\n",
       "    </tr>\n",
       "    <tr>\n",
       "      <th>8</th>\n",
       "      <td>9</td>\n",
       "      <td>tina</td>\n",
       "      <td>400</td>\n",
       "    </tr>\n",
       "    <tr>\n",
       "      <th>9</th>\n",
       "      <td>10</td>\n",
       "      <td>sonu</td>\n",
       "      <td>500</td>\n",
       "    </tr>\n",
       "    <tr>\n",
       "      <th>10</th>\n",
       "      <td>11</td>\n",
       "      <td>anil</td>\n",
       "      <td>1000</td>\n",
       "    </tr>\n",
       "    <tr>\n",
       "      <th>11</th>\n",
       "      <td>12</td>\n",
       "      <td>ram</td>\n",
       "      <td>300</td>\n",
       "    </tr>\n",
       "    <tr>\n",
       "      <th>12</th>\n",
       "      <td>13</td>\n",
       "      <td>ritu</td>\n",
       "      <td>200</td>\n",
       "    </tr>\n",
       "    <tr>\n",
       "      <th>13</th>\n",
       "      <td>14</td>\n",
       "      <td>kaushal</td>\n",
       "      <td>800</td>\n",
       "    </tr>\n",
       "    <tr>\n",
       "      <th>14</th>\n",
       "      <td>15</td>\n",
       "      <td>padam</td>\n",
       "      <td>700</td>\n",
       "    </tr>\n",
       "    <tr>\n",
       "      <th>15</th>\n",
       "      <td>16</td>\n",
       "      <td>manish</td>\n",
       "      <td>200</td>\n",
       "    </tr>\n",
       "    <tr>\n",
       "      <th>16</th>\n",
       "      <td>17</td>\n",
       "      <td>renu</td>\n",
       "      <td>600</td>\n",
       "    </tr>\n",
       "    <tr>\n",
       "      <th>17</th>\n",
       "      <td>18</td>\n",
       "      <td>monu</td>\n",
       "      <td>300</td>\n",
       "    </tr>\n",
       "    <tr>\n",
       "      <th>18</th>\n",
       "      <td>19</td>\n",
       "      <td>ankit</td>\n",
       "      <td>200</td>\n",
       "    </tr>\n",
       "    <tr>\n",
       "      <th>19</th>\n",
       "      <td>20</td>\n",
       "      <td>pankaj</td>\n",
       "      <td>400</td>\n",
       "    </tr>\n",
       "  </tbody>\n",
       "</table>\n",
       "</div>"
      ],
      "text/plain": [
       "    id name of students  marks\n",
       "0    1           nikhil    200\n",
       "1    2             arun    300\n",
       "2    3            pinky    400\n",
       "3    4            simmi    500\n",
       "4    5         prakriti    400\n",
       "5    6            vinay    800\n",
       "6    7         himanshu    900\n",
       "7    8             riya   1000\n",
       "8    9             tina    400\n",
       "9   10             sonu    500\n",
       "10  11             anil   1000\n",
       "11  12              ram    300\n",
       "12  13             ritu    200\n",
       "13  14          kaushal    800\n",
       "14  15            padam    700\n",
       "15  16           manish    200\n",
       "16  17             renu    600\n",
       "17  18             monu    300\n",
       "18  19            ankit    200\n",
       "19  20           pankaj    400"
      ]
     },
     "execution_count": 4,
     "metadata": {},
     "output_type": "execute_result"
    }
   ],
   "source": [
    "import pandas as pd\n",
    "df = pd.read_csv(\"students.csv\")\n",
    "df"
   ]
  },
  {
   "cell_type": "code",
   "execution_count": 5,
   "id": "e2afefd5",
   "metadata": {},
   "outputs": [
    {
     "name": "stdout",
     "output_type": "stream",
     "text": [
      "   name of students  marks\n",
      "id                        \n",
      "1            nikhil    200\n",
      "2              arun    300\n",
      "3             pinky    400\n",
      "4             simmi    500\n",
      "   name of students  marks\n",
      "id                        \n",
      "18             monu    300\n",
      "19            ankit    200\n",
      "20           pankaj    400\n"
     ]
    }
   ],
   "source": [
    "df = pd.read_csv(\"students.csv\" , index_col = \"id\")\n",
    "\n",
    "print(df.head(n = 4))\n",
    "\n",
    "print(df.tail(n = 3))"
   ]
  },
  {
   "cell_type": "code",
   "execution_count": 6,
   "id": "c0420969",
   "metadata": {},
   "outputs": [
    {
     "name": "stdout",
     "output_type": "stream",
     "text": [
      "(20, 2)\n",
      "2\n",
      "40\n",
      "Int64Index([1, 2, 3, 4, 5, 6, 7, 8, 9, 10, 11, 12, 13, 14, 15, 16, 17, 18, 19,\n",
      "            20],\n",
      "           dtype='int64', name='id')\n",
      "[['nikhil' 200]\n",
      " ['arun' 300]\n",
      " ['pinky' 400]\n",
      " ['simmi' 500]\n",
      " ['prakriti' 400]\n",
      " ['vinay' 800]\n",
      " ['himanshu' 900]\n",
      " ['riya' 1000]\n",
      " ['tina' 400]\n",
      " ['sonu' 500]\n",
      " ['anil' 1000]\n",
      " ['ram' 300]\n",
      " ['ritu' 200]\n",
      " ['kaushal' 800]\n",
      " ['padam' 700]\n",
      " ['manish' 200]\n",
      " ['renu' 600]\n",
      " ['monu' 300]\n",
      " ['ankit' 200]\n",
      " ['pankaj' 400]]\n"
     ]
    }
   ],
   "source": [
    "print(df.shape)\n",
    "print(df.ndim)\n",
    "print(df.size)\n",
    "print(df.index)\n",
    "print(df.values)"
   ]
  },
  {
   "cell_type": "code",
   "execution_count": 7,
   "id": "29c4d6fd",
   "metadata": {},
   "outputs": [
    {
     "name": "stdout",
     "output_type": "stream",
     "text": [
      "<class 'pandas.core.frame.DataFrame'>\n",
      "Int64Index: 20 entries, 1 to 20\n",
      "Data columns (total 2 columns):\n",
      " #   Column            Non-Null Count  Dtype \n",
      "---  ------            --------------  ----- \n",
      " 0   name of students  20 non-null     object\n",
      " 1   marks             20 non-null     int64 \n",
      "dtypes: int64(1), object(1)\n",
      "memory usage: 480.0+ bytes\n",
      "None\n"
     ]
    }
   ],
   "source": [
    "# info() method\n",
    "print(df.info())    # only for dataframe"
   ]
  },
  {
   "cell_type": "code",
   "execution_count": 8,
   "id": "c7355fe8",
   "metadata": {},
   "outputs": [
    {
     "name": "stdout",
     "output_type": "stream",
     "text": [
      "<class 'pandas.core.frame.DataFrame'>\n",
      "Int64Index: 20 entries, 1 to 20\n",
      "Columns: 2 entries, name of students to marks\n",
      "dtypes: int64(1), object(1)\n",
      "memory usage: 480.0+ bytes\n",
      "None\n"
     ]
    }
   ],
   "source": [
    "print(df.info(verbose = False))   # for summary"
   ]
  },
  {
   "cell_type": "code",
   "execution_count": 10,
   "id": "d648c42e",
   "metadata": {},
   "outputs": [
    {
     "data": {
      "text/html": [
       "<div>\n",
       "<style scoped>\n",
       "    .dataframe tbody tr th:only-of-type {\n",
       "        vertical-align: middle;\n",
       "    }\n",
       "\n",
       "    .dataframe tbody tr th {\n",
       "        vertical-align: top;\n",
       "    }\n",
       "\n",
       "    .dataframe thead th {\n",
       "        text-align: right;\n",
       "    }\n",
       "</style>\n",
       "<table border=\"1\" class=\"dataframe\">\n",
       "  <thead>\n",
       "    <tr style=\"text-align: right;\">\n",
       "      <th></th>\n",
       "      <th>eno</th>\n",
       "      <th>ename</th>\n",
       "      <th>esal</th>\n",
       "      <th>eadrs</th>\n",
       "    </tr>\n",
       "  </thead>\n",
       "  <tbody>\n",
       "    <tr>\n",
       "      <th>0</th>\n",
       "      <td>10</td>\n",
       "      <td>nitin</td>\n",
       "      <td>1000</td>\n",
       "      <td>doon</td>\n",
       "    </tr>\n",
       "    <tr>\n",
       "      <th>1</th>\n",
       "      <td>20</td>\n",
       "      <td>nikhil</td>\n",
       "      <td>2000</td>\n",
       "      <td>delhi</td>\n",
       "    </tr>\n",
       "    <tr>\n",
       "      <th>2</th>\n",
       "      <td>30</td>\n",
       "      <td>arun</td>\n",
       "      <td>3000</td>\n",
       "      <td>rishikesh</td>\n",
       "    </tr>\n",
       "    <tr>\n",
       "      <th>3</th>\n",
       "      <td>40</td>\n",
       "      <td>riya</td>\n",
       "      <td>4000</td>\n",
       "      <td>shimla</td>\n",
       "    </tr>\n",
       "    <tr>\n",
       "      <th>4</th>\n",
       "      <td>50</td>\n",
       "      <td>None</td>\n",
       "      <td>5000</td>\n",
       "      <td>&lt;NA&gt;</td>\n",
       "    </tr>\n",
       "  </tbody>\n",
       "</table>\n",
       "</div>"
      ],
      "text/plain": [
       "   eno   ename  esal      eadrs\n",
       "0   10   nitin  1000       doon\n",
       "1   20  nikhil  2000      delhi\n",
       "2   30    arun  3000  rishikesh\n",
       "3   40    riya  4000     shimla\n",
       "4   50    None  5000       <NA>"
      ]
     },
     "execution_count": 10,
     "metadata": {},
     "output_type": "execute_result"
    }
   ],
   "source": [
    "import pandas as pd\n",
    "\n",
    "eno = [10,20,30,40 , 50]\n",
    "ename = [\"nitin\" , \"nikhil\" , \"arun\" ,\"riya\" ,None]\n",
    "esal = [1000,2000,3000,4000 , 5000]\n",
    "eadrs = [\"doon\" , \"delhi\" , \"rishikesh\" , \"shimla\" , pd.NA]\n",
    "\n",
    "df = pd.DataFrame({\"eno\":eno , \"ename\":ename , \"esal\":esal , \"eadrs\":eadrs})\n",
    "\n",
    "df"
   ]
  },
  {
   "cell_type": "code",
   "execution_count": 11,
   "id": "1a665155",
   "metadata": {},
   "outputs": [
    {
     "name": "stdout",
     "output_type": "stream",
     "text": [
      "<class 'pandas.core.frame.DataFrame'>\n",
      "RangeIndex: 5 entries, 0 to 4\n",
      "Data columns (total 4 columns):\n",
      " #   Column  Non-Null Count  Dtype \n",
      "---  ------  --------------  ----- \n",
      " 0   eno     5 non-null      int64 \n",
      " 1   ename   4 non-null      object\n",
      " 2   esal    5 non-null      int64 \n",
      " 3   eadrs   4 non-null      object\n",
      "dtypes: int64(2), object(2)\n",
      "memory usage: 288.0+ bytes\n"
     ]
    }
   ],
   "source": [
    "df.info(show_counts = True)"
   ]
  },
  {
   "cell_type": "code",
   "execution_count": 14,
   "id": "64b6c0c5",
   "metadata": {},
   "outputs": [
    {
     "name": "stdout",
     "output_type": "stream",
     "text": [
      "<class 'pandas.core.frame.DataFrame'>\n",
      "RangeIndex: 5 entries, 0 to 4\n",
      "Data columns (total 4 columns):\n",
      " #   Column  Non-Null Count  Dtype \n",
      "---  ------  --------------  ----- \n",
      " 0   eno     5 non-null      int64 \n",
      " 1   ename   4 non-null      object\n",
      " 2   esal    5 non-null      int64 \n",
      " 3   eadrs   4 non-null      object\n",
      "dtypes: int64(2), object(2)\n",
      "memory usage: 288.0+ bytes\n"
     ]
    },
    {
     "name": "stderr",
     "output_type": "stream",
     "text": [
      "<ipython-input-14-a6d95acf2e87>:1: FutureWarning: null_counts is deprecated. Use show_counts instead\n",
      "  df.info(null_counts = True)\n"
     ]
    }
   ],
   "source": [
    "df.info(null_counts = True)"
   ]
  },
  {
   "cell_type": "code",
   "execution_count": 15,
   "id": "12f6ae2d",
   "metadata": {},
   "outputs": [
    {
     "name": "stdout",
     "output_type": "stream",
     "text": [
      "<class 'pandas.core.frame.DataFrame'>\n",
      "RangeIndex: 5 entries, 0 to 4\n",
      "Data columns (total 4 columns):\n",
      " #   Column  Dtype \n",
      "---  ------  ----- \n",
      " 0   eno     int64 \n",
      " 1   ename   object\n",
      " 2   esal    int64 \n",
      " 3   eadrs   object\n",
      "dtypes: int64(2), object(2)\n",
      "memory usage: 288.0+ bytes\n"
     ]
    },
    {
     "name": "stderr",
     "output_type": "stream",
     "text": [
      "<ipython-input-15-ce316d47521b>:1: FutureWarning: null_counts is deprecated. Use show_counts instead\n",
      "  df.info(null_counts = False)\n"
     ]
    }
   ],
   "source": [
    "df.info(null_counts = False)"
   ]
  },
  {
   "cell_type": "code",
   "execution_count": 16,
   "id": "59fbf393",
   "metadata": {},
   "outputs": [],
   "source": [
    "# sample() method\n",
    "# we can use sample method to get random records"
   ]
  },
  {
   "cell_type": "code",
   "execution_count": 17,
   "id": "84075ef3",
   "metadata": {},
   "outputs": [
    {
     "name": "stdout",
     "output_type": "stream",
     "text": [
      "   name of students  marks\n",
      "id                        \n",
      "15            padam    700\n",
      "******************\n",
      "   name of students  marks\n",
      "id                        \n",
      "14          kaushal    800\n",
      "13             ritu    200\n",
      "8              riya   1000\n",
      "3             pinky    400\n",
      "15            padam    700\n",
      "5          prakriti    400\n",
      "4             simmi    500\n"
     ]
    }
   ],
   "source": [
    "df = pd.read_csv(\"students.csv\" , index_col = \"id\")\n",
    "\n",
    "print(df.sample())\n",
    "\n",
    "print(\"******************\")\n",
    "\n",
    "print(df.sample(n= 7))"
   ]
  },
  {
   "cell_type": "code",
   "execution_count": 18,
   "id": "7493e47d",
   "metadata": {},
   "outputs": [],
   "source": [
    "# to get specified fraction of records from total\n",
    "# we have to use frac option"
   ]
  },
  {
   "cell_type": "code",
   "execution_count": 19,
   "id": "4d2caf72",
   "metadata": {},
   "outputs": [
    {
     "data": {
      "text/html": [
       "<div>\n",
       "<style scoped>\n",
       "    .dataframe tbody tr th:only-of-type {\n",
       "        vertical-align: middle;\n",
       "    }\n",
       "\n",
       "    .dataframe tbody tr th {\n",
       "        vertical-align: top;\n",
       "    }\n",
       "\n",
       "    .dataframe thead th {\n",
       "        text-align: right;\n",
       "    }\n",
       "</style>\n",
       "<table border=\"1\" class=\"dataframe\">\n",
       "  <thead>\n",
       "    <tr style=\"text-align: right;\">\n",
       "      <th></th>\n",
       "      <th>name of students</th>\n",
       "      <th>marks</th>\n",
       "    </tr>\n",
       "    <tr>\n",
       "      <th>id</th>\n",
       "      <th></th>\n",
       "      <th></th>\n",
       "    </tr>\n",
       "  </thead>\n",
       "  <tbody>\n",
       "    <tr>\n",
       "      <th>10</th>\n",
       "      <td>sonu</td>\n",
       "      <td>500</td>\n",
       "    </tr>\n",
       "    <tr>\n",
       "      <th>17</th>\n",
       "      <td>renu</td>\n",
       "      <td>600</td>\n",
       "    </tr>\n",
       "    <tr>\n",
       "      <th>6</th>\n",
       "      <td>vinay</td>\n",
       "      <td>800</td>\n",
       "    </tr>\n",
       "    <tr>\n",
       "      <th>2</th>\n",
       "      <td>arun</td>\n",
       "      <td>300</td>\n",
       "    </tr>\n",
       "  </tbody>\n",
       "</table>\n",
       "</div>"
      ],
      "text/plain": [
       "   name of students  marks\n",
       "id                        \n",
       "10             sonu    500\n",
       "17             renu    600\n",
       "6             vinay    800\n",
       "2              arun    300"
      ]
     },
     "execution_count": 19,
     "metadata": {},
     "output_type": "execute_result"
    }
   ],
   "source": [
    "df = pd.read_csv(\"students.csv\" , index_col = \"id\")\n",
    "\n",
    "df.sample(frac = .20)  # to get 20% of total records"
   ]
  },
  {
   "cell_type": "code",
   "execution_count": 20,
   "id": "969214a7",
   "metadata": {},
   "outputs": [
    {
     "data": {
      "text/plain": [
       "object    1\n",
       "int64     1\n",
       "dtype: int64"
      ]
     },
     "execution_count": 20,
     "metadata": {},
     "output_type": "execute_result"
    }
   ],
   "source": [
    "df = pd.read_csv(\"students.csv\" , index_col = \"id\")\n",
    "\n",
    "df.dtypes\n",
    "\n",
    "df.dtypes.value_counts() # return no of columns w.r.t to data types"
   ]
  },
  {
   "cell_type": "code",
   "execution_count": 21,
   "id": "56823735",
   "metadata": {},
   "outputs": [
    {
     "data": {
      "text/plain": [
       "Index(['name of students', 'marks'], dtype='object')"
      ]
     },
     "execution_count": 21,
     "metadata": {},
     "output_type": "execute_result"
    }
   ],
   "source": [
    "df = pd.read_csv(\"students.csv\" , index_col = \"id\")\n",
    "\n",
    "df.columns"
   ]
  },
  {
   "cell_type": "code",
   "execution_count": 22,
   "id": "d7ffaee6",
   "metadata": {},
   "outputs": [
    {
     "name": "stdout",
     "output_type": "stream",
     "text": [
      "[Int64Index([1, 2, 3, 4, 5, 6, 7, 8, 9, 10, 11, 12, 13, 14, 15, 16, 17, 18, 19,\n",
      "            20],\n",
      "           dtype='int64', name='id'), Index(['name of students', 'marks'], dtype='object')]\n"
     ]
    }
   ],
   "source": [
    "print(df.axes)"
   ]
  },
  {
   "cell_type": "code",
   "execution_count": 23,
   "id": "7d5e43b2",
   "metadata": {},
   "outputs": [],
   "source": [
    "# how to select only one requird column from dataframe\n",
    "\n",
    "# df.column_name\n",
    "\n",
    "# df[\"column_name\"]"
   ]
  },
  {
   "cell_type": "code",
   "execution_count": 24,
   "id": "9240193d",
   "metadata": {},
   "outputs": [
    {
     "data": {
      "text/html": [
       "<div>\n",
       "<style scoped>\n",
       "    .dataframe tbody tr th:only-of-type {\n",
       "        vertical-align: middle;\n",
       "    }\n",
       "\n",
       "    .dataframe tbody tr th {\n",
       "        vertical-align: top;\n",
       "    }\n",
       "\n",
       "    .dataframe thead th {\n",
       "        text-align: right;\n",
       "    }\n",
       "</style>\n",
       "<table border=\"1\" class=\"dataframe\">\n",
       "  <thead>\n",
       "    <tr style=\"text-align: right;\">\n",
       "      <th></th>\n",
       "      <th>eno</th>\n",
       "      <th>ename</th>\n",
       "      <th>esal</th>\n",
       "      <th>eadrs</th>\n",
       "    </tr>\n",
       "  </thead>\n",
       "  <tbody>\n",
       "    <tr>\n",
       "      <th>0</th>\n",
       "      <td>10</td>\n",
       "      <td>nikhil</td>\n",
       "      <td>1000</td>\n",
       "      <td>doon</td>\n",
       "    </tr>\n",
       "    <tr>\n",
       "      <th>1</th>\n",
       "      <td>20</td>\n",
       "      <td>prakriti</td>\n",
       "      <td>2000</td>\n",
       "      <td>delhi</td>\n",
       "    </tr>\n",
       "    <tr>\n",
       "      <th>2</th>\n",
       "      <td>30</td>\n",
       "      <td>arun</td>\n",
       "      <td>3000</td>\n",
       "      <td>rishikesh</td>\n",
       "    </tr>\n",
       "    <tr>\n",
       "      <th>3</th>\n",
       "      <td>40</td>\n",
       "      <td>nitin</td>\n",
       "      <td>4000</td>\n",
       "      <td>shimla</td>\n",
       "    </tr>\n",
       "    <tr>\n",
       "      <th>4</th>\n",
       "      <td>50</td>\n",
       "      <td>None</td>\n",
       "      <td>5000</td>\n",
       "      <td>&lt;NA&gt;</td>\n",
       "    </tr>\n",
       "  </tbody>\n",
       "</table>\n",
       "</div>"
      ],
      "text/plain": [
       "   eno     ename  esal      eadrs\n",
       "0   10    nikhil  1000       doon\n",
       "1   20  prakriti  2000      delhi\n",
       "2   30      arun  3000  rishikesh\n",
       "3   40     nitin  4000     shimla\n",
       "4   50      None  5000       <NA>"
      ]
     },
     "execution_count": 24,
     "metadata": {},
     "output_type": "execute_result"
    }
   ],
   "source": [
    "import pandas as pd\n",
    "\n",
    "eno = [10,20,30,40 , 50]\n",
    "ename = [\"nikhil\" , \"prakriti\" , \"arun\" ,\"nitin\" ,None]\n",
    "esal = [1000,2000,3000,4000 , 5000]\n",
    "eadrs = [\"doon\" , \"delhi\" , \"rishikesh\" , \"shimla\" , pd.NA]\n",
    "\n",
    "df = pd.DataFrame({\"eno\":eno , \"ename\":ename , \"esal\":esal , \"eadrs\":eadrs})\n",
    "\n",
    "df"
   ]
  },
  {
   "cell_type": "code",
   "execution_count": 25,
   "id": "f76ab677",
   "metadata": {},
   "outputs": [
    {
     "name": "stdout",
     "output_type": "stream",
     "text": [
      "0    1000\n",
      "1    2000\n",
      "2    3000\n",
      "3    4000\n",
      "4    5000\n",
      "Name: esal, dtype: int64\n"
     ]
    }
   ],
   "source": [
    "df[\"esal\"]\n",
    "print(df.esal)"
   ]
  },
  {
   "cell_type": "code",
   "execution_count": 29,
   "id": "fdce51c6",
   "metadata": {},
   "outputs": [],
   "source": [
    "# if col name contain space\n",
    "\n",
    "# df[\"column name\"]  -- recommended\n"
   ]
  },
  {
   "cell_type": "code",
   "execution_count": 27,
   "id": "8be8a29d",
   "metadata": {},
   "outputs": [
    {
     "ename": "SyntaxError",
     "evalue": "invalid syntax (<ipython-input-27-f300ae8b271b>, line 3)",
     "output_type": "error",
     "traceback": [
      "\u001b[1;36m  File \u001b[1;32m\"<ipython-input-27-f300ae8b271b>\"\u001b[1;36m, line \u001b[1;32m3\u001b[0m\n\u001b[1;33m    df.e name    #  --> invalid\u001b[0m\n\u001b[1;37m         ^\u001b[0m\n\u001b[1;31mSyntaxError\u001b[0m\u001b[1;31m:\u001b[0m invalid syntax\n"
     ]
    }
   ],
   "source": [
    "df[\"e name\"]\n",
    "\n",
    "df.e name    #  --> invalid"
   ]
  },
  {
   "cell_type": "code",
   "execution_count": 32,
   "id": "fc5e1b35",
   "metadata": {},
   "outputs": [
    {
     "data": {
      "text/html": [
       "<div>\n",
       "<style scoped>\n",
       "    .dataframe tbody tr th:only-of-type {\n",
       "        vertical-align: middle;\n",
       "    }\n",
       "\n",
       "    .dataframe tbody tr th {\n",
       "        vertical-align: top;\n",
       "    }\n",
       "\n",
       "    .dataframe thead th {\n",
       "        text-align: right;\n",
       "    }\n",
       "</style>\n",
       "<table border=\"1\" class=\"dataframe\">\n",
       "  <thead>\n",
       "    <tr style=\"text-align: right;\">\n",
       "      <th></th>\n",
       "      <th>eno</th>\n",
       "      <th>ename</th>\n",
       "    </tr>\n",
       "  </thead>\n",
       "  <tbody>\n",
       "    <tr>\n",
       "      <th>0</th>\n",
       "      <td>10</td>\n",
       "      <td>nikhil</td>\n",
       "    </tr>\n",
       "    <tr>\n",
       "      <th>1</th>\n",
       "      <td>20</td>\n",
       "      <td>prakriti</td>\n",
       "    </tr>\n",
       "    <tr>\n",
       "      <th>2</th>\n",
       "      <td>30</td>\n",
       "      <td>arun</td>\n",
       "    </tr>\n",
       "    <tr>\n",
       "      <th>3</th>\n",
       "      <td>40</td>\n",
       "      <td>nitin</td>\n",
       "    </tr>\n",
       "    <tr>\n",
       "      <th>4</th>\n",
       "      <td>50</td>\n",
       "      <td>None</td>\n",
       "    </tr>\n",
       "  </tbody>\n",
       "</table>\n",
       "</div>"
      ],
      "text/plain": [
       "   eno     ename\n",
       "0   10    nikhil\n",
       "1   20  prakriti\n",
       "2   30      arun\n",
       "3   40     nitin\n",
       "4   50      None"
      ]
     },
     "execution_count": 32,
     "metadata": {},
     "output_type": "execute_result"
    }
   ],
   "source": [
    "df[[\"eno\" , \"esal\"]]\n",
    "\n",
    "# or \n",
    "\n",
    "x = [\"eno\" , \"ename\"]\n",
    "\n",
    "df[x]"
   ]
  },
  {
   "cell_type": "code",
   "execution_count": 33,
   "id": "797a9376",
   "metadata": {},
   "outputs": [
    {
     "data": {
      "text/html": [
       "<div>\n",
       "<style scoped>\n",
       "    .dataframe tbody tr th:only-of-type {\n",
       "        vertical-align: middle;\n",
       "    }\n",
       "\n",
       "    .dataframe tbody tr th {\n",
       "        vertical-align: top;\n",
       "    }\n",
       "\n",
       "    .dataframe thead th {\n",
       "        text-align: right;\n",
       "    }\n",
       "</style>\n",
       "<table border=\"1\" class=\"dataframe\">\n",
       "  <thead>\n",
       "    <tr style=\"text-align: right;\">\n",
       "      <th></th>\n",
       "      <th>c1</th>\n",
       "      <th>c2</th>\n",
       "      <th>c3</th>\n",
       "      <th>c4</th>\n",
       "      <th>c5</th>\n",
       "    </tr>\n",
       "  </thead>\n",
       "  <tbody>\n",
       "    <tr>\n",
       "      <th>0</th>\n",
       "      <td>10</td>\n",
       "      <td>nitin</td>\n",
       "      <td>1000</td>\n",
       "      <td>doon</td>\n",
       "      <td>30</td>\n",
       "    </tr>\n",
       "    <tr>\n",
       "      <th>1</th>\n",
       "      <td>20</td>\n",
       "      <td>tina</td>\n",
       "      <td>2000</td>\n",
       "      <td>delhi</td>\n",
       "      <td>40</td>\n",
       "    </tr>\n",
       "    <tr>\n",
       "      <th>2</th>\n",
       "      <td>30</td>\n",
       "      <td>arun</td>\n",
       "      <td>3000</td>\n",
       "      <td>rishikesh</td>\n",
       "      <td>50</td>\n",
       "    </tr>\n",
       "    <tr>\n",
       "      <th>3</th>\n",
       "      <td>40</td>\n",
       "      <td>riya</td>\n",
       "      <td>4000</td>\n",
       "      <td>shimla</td>\n",
       "      <td>60</td>\n",
       "    </tr>\n",
       "    <tr>\n",
       "      <th>4</th>\n",
       "      <td>50</td>\n",
       "      <td>padam</td>\n",
       "      <td>5000</td>\n",
       "      <td>agra</td>\n",
       "      <td>70</td>\n",
       "    </tr>\n",
       "  </tbody>\n",
       "</table>\n",
       "</div>"
      ],
      "text/plain": [
       "   c1     c2    c3         c4  c5\n",
       "0  10  nitin  1000       doon  30\n",
       "1  20   tina  2000      delhi  40\n",
       "2  30   arun  3000  rishikesh  50\n",
       "3  40   riya  4000     shimla  60\n",
       "4  50  padam  5000       agra  70"
      ]
     },
     "execution_count": 33,
     "metadata": {},
     "output_type": "execute_result"
    }
   ],
   "source": [
    "import pandas as pd\n",
    "\n",
    "eno = [10,20,30,40 , 50]\n",
    "ename = [\"nitin\" , \"tina\" , \"arun\" ,\"riya\" ,\"padam\"]\n",
    "esal = [1000,2000,3000,4000 , 5000]\n",
    "eadrs = [\"doon\" , \"delhi\" , \"rishikesh\" , \"shimla\" , \"agra\"]\n",
    "marks = [30,40,50,60,70]\n",
    "\n",
    "df = pd.DataFrame({\"c1\":eno , \"c2\":ename , \"c3\":esal , \"c4\":eadrs , \"c5\":marks})\n",
    "\n",
    "df"
   ]
  },
  {
   "cell_type": "code",
   "execution_count": 34,
   "id": "26908675",
   "metadata": {},
   "outputs": [
    {
     "data": {
      "text/html": [
       "<div>\n",
       "<style scoped>\n",
       "    .dataframe tbody tr th:only-of-type {\n",
       "        vertical-align: middle;\n",
       "    }\n",
       "\n",
       "    .dataframe tbody tr th {\n",
       "        vertical-align: top;\n",
       "    }\n",
       "\n",
       "    .dataframe thead th {\n",
       "        text-align: right;\n",
       "    }\n",
       "</style>\n",
       "<table border=\"1\" class=\"dataframe\">\n",
       "  <thead>\n",
       "    <tr style=\"text-align: right;\">\n",
       "      <th></th>\n",
       "      <th>c2</th>\n",
       "      <th>c4</th>\n",
       "    </tr>\n",
       "  </thead>\n",
       "  <tbody>\n",
       "    <tr>\n",
       "      <th>0</th>\n",
       "      <td>nitin</td>\n",
       "      <td>doon</td>\n",
       "    </tr>\n",
       "    <tr>\n",
       "      <th>1</th>\n",
       "      <td>tina</td>\n",
       "      <td>delhi</td>\n",
       "    </tr>\n",
       "    <tr>\n",
       "      <th>2</th>\n",
       "      <td>arun</td>\n",
       "      <td>rishikesh</td>\n",
       "    </tr>\n",
       "    <tr>\n",
       "      <th>3</th>\n",
       "      <td>riya</td>\n",
       "      <td>shimla</td>\n",
       "    </tr>\n",
       "    <tr>\n",
       "      <th>4</th>\n",
       "      <td>padam</td>\n",
       "      <td>agra</td>\n",
       "    </tr>\n",
       "  </tbody>\n",
       "</table>\n",
       "</div>"
      ],
      "text/plain": [
       "      c2         c4\n",
       "0  nitin       doon\n",
       "1   tina      delhi\n",
       "2   arun  rishikesh\n",
       "3   riya     shimla\n",
       "4  padam       agra"
      ]
     },
     "execution_count": 34,
     "metadata": {},
     "output_type": "execute_result"
    }
   ],
   "source": [
    "# to select c2 and c4 col\n",
    "\n",
    "df[[\"c2\" , \"c4\"]]"
   ]
  },
  {
   "cell_type": "code",
   "execution_count": 35,
   "id": "eb3350b3",
   "metadata": {},
   "outputs": [
    {
     "data": {
      "text/html": [
       "<div>\n",
       "<style scoped>\n",
       "    .dataframe tbody tr th:only-of-type {\n",
       "        vertical-align: middle;\n",
       "    }\n",
       "\n",
       "    .dataframe tbody tr th {\n",
       "        vertical-align: top;\n",
       "    }\n",
       "\n",
       "    .dataframe thead th {\n",
       "        text-align: right;\n",
       "    }\n",
       "</style>\n",
       "<table border=\"1\" class=\"dataframe\">\n",
       "  <thead>\n",
       "    <tr style=\"text-align: right;\">\n",
       "      <th></th>\n",
       "      <th>c5</th>\n",
       "      <th>c4</th>\n",
       "      <th>c3</th>\n",
       "      <th>c2</th>\n",
       "    </tr>\n",
       "  </thead>\n",
       "  <tbody>\n",
       "    <tr>\n",
       "      <th>0</th>\n",
       "      <td>30</td>\n",
       "      <td>doon</td>\n",
       "      <td>1000</td>\n",
       "      <td>nitin</td>\n",
       "    </tr>\n",
       "    <tr>\n",
       "      <th>1</th>\n",
       "      <td>40</td>\n",
       "      <td>delhi</td>\n",
       "      <td>2000</td>\n",
       "      <td>tina</td>\n",
       "    </tr>\n",
       "    <tr>\n",
       "      <th>2</th>\n",
       "      <td>50</td>\n",
       "      <td>rishikesh</td>\n",
       "      <td>3000</td>\n",
       "      <td>arun</td>\n",
       "    </tr>\n",
       "    <tr>\n",
       "      <th>3</th>\n",
       "      <td>60</td>\n",
       "      <td>shimla</td>\n",
       "      <td>4000</td>\n",
       "      <td>riya</td>\n",
       "    </tr>\n",
       "    <tr>\n",
       "      <th>4</th>\n",
       "      <td>70</td>\n",
       "      <td>agra</td>\n",
       "      <td>5000</td>\n",
       "      <td>padam</td>\n",
       "    </tr>\n",
       "  </tbody>\n",
       "</table>\n",
       "</div>"
      ],
      "text/plain": [
       "   c5         c4    c3     c2\n",
       "0  30       doon  1000  nitin\n",
       "1  40      delhi  2000   tina\n",
       "2  50  rishikesh  3000   arun\n",
       "3  60     shimla  4000   riya\n",
       "4  70       agra  5000  padam"
      ]
     },
     "execution_count": 35,
     "metadata": {},
     "output_type": "execute_result"
    }
   ],
   "source": [
    "# to get c2 to c5 in reverse order\n",
    "\n",
    "df[[\"c5\",\"c4\" , \"c3\" , \"c2\"]]"
   ]
  },
  {
   "cell_type": "code",
   "execution_count": 37,
   "id": "d965f92a",
   "metadata": {},
   "outputs": [],
   "source": [
    "import pandas as pd\n",
    "\n",
    "eno = [10,20,30,40 , 50]\n",
    "ename = [\"nikhil\" , \"prakriti\" , \"arun\" ,\"riya\" ,\"tannu\"]\n",
    "esal = [1000,2000,3000,4000 , 5000]\n",
    "eadrs = [\"doon\" , \"delhi\" , \"rishikesh\" , \"shimla\" , \"agra\"]\n",
    "\n",
    "df = pd.DataFrame({\"eno\":eno , \"ename\":ename , \"esal\":esal , \"eadrs\":eadrs})\n",
    "\n",
    "df.to_csv(\"emp.csv\" , index = False)"
   ]
  },
  {
   "cell_type": "code",
   "execution_count": null,
   "id": "766a3b63",
   "metadata": {},
   "outputs": [],
   "source": []
  },
  {
   "cell_type": "code",
   "execution_count": null,
   "id": "53797ae5",
   "metadata": {},
   "outputs": [],
   "source": []
  },
  {
   "cell_type": "code",
   "execution_count": null,
   "id": "149301ec",
   "metadata": {},
   "outputs": [],
   "source": []
  }
 ],
 "metadata": {
  "kernelspec": {
   "display_name": "Python 3",
   "language": "python",
   "name": "python3"
  },
  "language_info": {
   "codemirror_mode": {
    "name": "ipython",
    "version": 3
   },
   "file_extension": ".py",
   "mimetype": "text/x-python",
   "name": "python",
   "nbconvert_exporter": "python",
   "pygments_lexer": "ipython3",
   "version": "3.8.8"
  }
 },
 "nbformat": 4,
 "nbformat_minor": 5
}
