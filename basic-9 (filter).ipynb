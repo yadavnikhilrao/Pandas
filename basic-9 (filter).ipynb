{
 "cells": [
  {
   "cell_type": "code",
   "execution_count": 1,
   "id": "d434dccc",
   "metadata": {},
   "outputs": [
    {
     "data": {
      "text/html": [
       "<div>\n",
       "<style scoped>\n",
       "    .dataframe tbody tr th:only-of-type {\n",
       "        vertical-align: middle;\n",
       "    }\n",
       "\n",
       "    .dataframe tbody tr th {\n",
       "        vertical-align: top;\n",
       "    }\n",
       "\n",
       "    .dataframe thead th {\n",
       "        text-align: right;\n",
       "    }\n",
       "</style>\n",
       "<table border=\"1\" class=\"dataframe\">\n",
       "  <thead>\n",
       "    <tr style=\"text-align: right;\">\n",
       "      <th></th>\n",
       "      <th>eno</th>\n",
       "      <th>esal</th>\n",
       "      <th>eadrs</th>\n",
       "    </tr>\n",
       "    <tr>\n",
       "      <th>ename</th>\n",
       "      <th></th>\n",
       "      <th></th>\n",
       "      <th></th>\n",
       "    </tr>\n",
       "  </thead>\n",
       "  <tbody>\n",
       "    <tr>\n",
       "      <th>nikhil</th>\n",
       "      <td>10</td>\n",
       "      <td>1000</td>\n",
       "      <td>doon</td>\n",
       "    </tr>\n",
       "    <tr>\n",
       "      <th>prakriti</th>\n",
       "      <td>20</td>\n",
       "      <td>2000</td>\n",
       "      <td>delhi</td>\n",
       "    </tr>\n",
       "    <tr>\n",
       "      <th>arun</th>\n",
       "      <td>30</td>\n",
       "      <td>3000</td>\n",
       "      <td>rishikesh</td>\n",
       "    </tr>\n",
       "    <tr>\n",
       "      <th>riya</th>\n",
       "      <td>40</td>\n",
       "      <td>4000</td>\n",
       "      <td>shimla</td>\n",
       "    </tr>\n",
       "    <tr>\n",
       "      <th>tannu</th>\n",
       "      <td>50</td>\n",
       "      <td>5000</td>\n",
       "      <td>agra</td>\n",
       "    </tr>\n",
       "  </tbody>\n",
       "</table>\n",
       "</div>"
      ],
      "text/plain": [
       "          eno  esal      eadrs\n",
       "ename                         \n",
       "nikhil     10  1000       doon\n",
       "prakriti   20  2000      delhi\n",
       "arun       30  3000  rishikesh\n",
       "riya       40  4000     shimla\n",
       "tannu      50  5000       agra"
      ]
     },
     "execution_count": 1,
     "metadata": {},
     "output_type": "execute_result"
    }
   ],
   "source": [
    "# filter data with query() method\n",
    "\n",
    "import pandas as pd\n",
    "df = pd.read_csv(\"emp.csv\" , index_col = \"ename\")\n",
    "df.head()"
   ]
  },
  {
   "cell_type": "code",
   "execution_count": 2,
   "id": "9f32a763",
   "metadata": {},
   "outputs": [
    {
     "data": {
      "text/html": [
       "<div>\n",
       "<style scoped>\n",
       "    .dataframe tbody tr th:only-of-type {\n",
       "        vertical-align: middle;\n",
       "    }\n",
       "\n",
       "    .dataframe tbody tr th {\n",
       "        vertical-align: top;\n",
       "    }\n",
       "\n",
       "    .dataframe thead th {\n",
       "        text-align: right;\n",
       "    }\n",
       "</style>\n",
       "<table border=\"1\" class=\"dataframe\">\n",
       "  <thead>\n",
       "    <tr style=\"text-align: right;\">\n",
       "      <th></th>\n",
       "      <th>eno</th>\n",
       "      <th>esal</th>\n",
       "      <th>eadrs</th>\n",
       "    </tr>\n",
       "    <tr>\n",
       "      <th>ename</th>\n",
       "      <th></th>\n",
       "      <th></th>\n",
       "      <th></th>\n",
       "    </tr>\n",
       "  </thead>\n",
       "  <tbody>\n",
       "    <tr>\n",
       "      <th>nikhil</th>\n",
       "      <td>10</td>\n",
       "      <td>1000</td>\n",
       "      <td>doon</td>\n",
       "    </tr>\n",
       "  </tbody>\n",
       "</table>\n",
       "</div>"
      ],
      "text/plain": [
       "        eno  esal eadrs\n",
       "ename                  \n",
       "nikhil   10  1000  doon"
      ]
     },
     "execution_count": 2,
     "metadata": {},
     "output_type": "execute_result"
    }
   ],
   "source": [
    "# select all employes from doon\n",
    "\n",
    "c = df[\"eadrs\"] == \"doon\"\n",
    "\n",
    "df[c]"
   ]
  },
  {
   "cell_type": "code",
   "execution_count": 3,
   "id": "e59e24e2",
   "metadata": {},
   "outputs": [],
   "source": [
    "# using query()\n",
    "# query() - used to filter rows from database\n",
    "\n",
    "# note -->\n",
    "#  paramtr dhold contain valid string\n",
    "#  col name shold not contain space"
   ]
  },
  {
   "cell_type": "code",
   "execution_count": 4,
   "id": "6f5ee834",
   "metadata": {},
   "outputs": [
    {
     "data": {
      "text/html": [
       "<div>\n",
       "<style scoped>\n",
       "    .dataframe tbody tr th:only-of-type {\n",
       "        vertical-align: middle;\n",
       "    }\n",
       "\n",
       "    .dataframe tbody tr th {\n",
       "        vertical-align: top;\n",
       "    }\n",
       "\n",
       "    .dataframe thead th {\n",
       "        text-align: right;\n",
       "    }\n",
       "</style>\n",
       "<table border=\"1\" class=\"dataframe\">\n",
       "  <thead>\n",
       "    <tr style=\"text-align: right;\">\n",
       "      <th></th>\n",
       "      <th>eno</th>\n",
       "      <th>esal</th>\n",
       "      <th>eadrs</th>\n",
       "    </tr>\n",
       "    <tr>\n",
       "      <th>ename</th>\n",
       "      <th></th>\n",
       "      <th></th>\n",
       "      <th></th>\n",
       "    </tr>\n",
       "  </thead>\n",
       "  <tbody>\n",
       "    <tr>\n",
       "      <th>nikhil</th>\n",
       "      <td>10</td>\n",
       "      <td>1000</td>\n",
       "      <td>doon</td>\n",
       "    </tr>\n",
       "    <tr>\n",
       "      <th>prakriti</th>\n",
       "      <td>20</td>\n",
       "      <td>2000</td>\n",
       "      <td>delhi</td>\n",
       "    </tr>\n",
       "    <tr>\n",
       "      <th>arun</th>\n",
       "      <td>30</td>\n",
       "      <td>3000</td>\n",
       "      <td>rishikesh</td>\n",
       "    </tr>\n",
       "    <tr>\n",
       "      <th>riya</th>\n",
       "      <td>40</td>\n",
       "      <td>4000</td>\n",
       "      <td>shimla</td>\n",
       "    </tr>\n",
       "    <tr>\n",
       "      <th>tannu</th>\n",
       "      <td>50</td>\n",
       "      <td>5000</td>\n",
       "      <td>agra</td>\n",
       "    </tr>\n",
       "  </tbody>\n",
       "</table>\n",
       "</div>"
      ],
      "text/plain": [
       "          eno  esal      eadrs\n",
       "ename                         \n",
       "nikhil     10  1000       doon\n",
       "prakriti   20  2000      delhi\n",
       "arun       30  3000  rishikesh\n",
       "riya       40  4000     shimla\n",
       "tannu      50  5000       agra"
      ]
     },
     "execution_count": 4,
     "metadata": {},
     "output_type": "execute_result"
    }
   ],
   "source": [
    "import pandas as pd\n",
    "df = pd.read_csv(\"emp.csv\" , index_col = \"ename\")\n",
    "df.head()"
   ]
  },
  {
   "cell_type": "code",
   "execution_count": 5,
   "id": "df87ac81",
   "metadata": {},
   "outputs": [
    {
     "data": {
      "text/html": [
       "<div>\n",
       "<style scoped>\n",
       "    .dataframe tbody tr th:only-of-type {\n",
       "        vertical-align: middle;\n",
       "    }\n",
       "\n",
       "    .dataframe tbody tr th {\n",
       "        vertical-align: top;\n",
       "    }\n",
       "\n",
       "    .dataframe thead th {\n",
       "        text-align: right;\n",
       "    }\n",
       "</style>\n",
       "<table border=\"1\" class=\"dataframe\">\n",
       "  <thead>\n",
       "    <tr style=\"text-align: right;\">\n",
       "      <th></th>\n",
       "      <th>eno</th>\n",
       "      <th>esal</th>\n",
       "      <th>eadrs</th>\n",
       "    </tr>\n",
       "    <tr>\n",
       "      <th>ename</th>\n",
       "      <th></th>\n",
       "      <th></th>\n",
       "      <th></th>\n",
       "    </tr>\n",
       "  </thead>\n",
       "  <tbody>\n",
       "    <tr>\n",
       "      <th>nikhil</th>\n",
       "      <td>10</td>\n",
       "      <td>1000</td>\n",
       "      <td>doon</td>\n",
       "    </tr>\n",
       "  </tbody>\n",
       "</table>\n",
       "</div>"
      ],
      "text/plain": [
       "        eno  esal eadrs\n",
       "ename                  \n",
       "nikhil   10  1000  doon"
      ]
     },
     "execution_count": 5,
     "metadata": {},
     "output_type": "execute_result"
    }
   ],
   "source": [
    "df.query('eadrs == \"doon\"')   # strng may create problm"
   ]
  },
  {
   "cell_type": "code",
   "execution_count": 6,
   "id": "22396f9e",
   "metadata": {},
   "outputs": [
    {
     "data": {
      "text/html": [
       "<div>\n",
       "<style scoped>\n",
       "    .dataframe tbody tr th:only-of-type {\n",
       "        vertical-align: middle;\n",
       "    }\n",
       "\n",
       "    .dataframe tbody tr th {\n",
       "        vertical-align: top;\n",
       "    }\n",
       "\n",
       "    .dataframe thead th {\n",
       "        text-align: right;\n",
       "    }\n",
       "</style>\n",
       "<table border=\"1\" class=\"dataframe\">\n",
       "  <thead>\n",
       "    <tr style=\"text-align: right;\">\n",
       "      <th></th>\n",
       "      <th>eno</th>\n",
       "      <th>esal</th>\n",
       "      <th>eadrs</th>\n",
       "    </tr>\n",
       "    <tr>\n",
       "      <th>ename</th>\n",
       "      <th></th>\n",
       "      <th></th>\n",
       "      <th></th>\n",
       "    </tr>\n",
       "  </thead>\n",
       "  <tbody>\n",
       "    <tr>\n",
       "      <th>prakriti</th>\n",
       "      <td>20</td>\n",
       "      <td>2000</td>\n",
       "      <td>delhi</td>\n",
       "    </tr>\n",
       "    <tr>\n",
       "      <th>arun</th>\n",
       "      <td>30</td>\n",
       "      <td>3000</td>\n",
       "      <td>rishikesh</td>\n",
       "    </tr>\n",
       "    <tr>\n",
       "      <th>riya</th>\n",
       "      <td>40</td>\n",
       "      <td>4000</td>\n",
       "      <td>shimla</td>\n",
       "    </tr>\n",
       "    <tr>\n",
       "      <th>tannu</th>\n",
       "      <td>50</td>\n",
       "      <td>5000</td>\n",
       "      <td>agra</td>\n",
       "    </tr>\n",
       "  </tbody>\n",
       "</table>\n",
       "</div>"
      ],
      "text/plain": [
       "          eno  esal      eadrs\n",
       "ename                         \n",
       "prakriti   20  2000      delhi\n",
       "arun       30  3000  rishikesh\n",
       "riya       40  4000     shimla\n",
       "tannu      50  5000       agra"
      ]
     },
     "execution_count": 6,
     "metadata": {},
     "output_type": "execute_result"
    }
   ],
   "source": [
    "# not from doon\n",
    "\n",
    "df.query(\"eadrs != 'doon'\")"
   ]
  },
  {
   "cell_type": "code",
   "execution_count": 7,
   "id": "feb8de10",
   "metadata": {},
   "outputs": [
    {
     "data": {
      "text/html": [
       "<div>\n",
       "<style scoped>\n",
       "    .dataframe tbody tr th:only-of-type {\n",
       "        vertical-align: middle;\n",
       "    }\n",
       "\n",
       "    .dataframe tbody tr th {\n",
       "        vertical-align: top;\n",
       "    }\n",
       "\n",
       "    .dataframe thead th {\n",
       "        text-align: right;\n",
       "    }\n",
       "</style>\n",
       "<table border=\"1\" class=\"dataframe\">\n",
       "  <thead>\n",
       "    <tr style=\"text-align: right;\">\n",
       "      <th></th>\n",
       "      <th>eno</th>\n",
       "      <th>esal</th>\n",
       "      <th>eadrs</th>\n",
       "    </tr>\n",
       "    <tr>\n",
       "      <th>ename</th>\n",
       "      <th></th>\n",
       "      <th></th>\n",
       "      <th></th>\n",
       "    </tr>\n",
       "  </thead>\n",
       "  <tbody>\n",
       "    <tr>\n",
       "      <th>riya</th>\n",
       "      <td>40</td>\n",
       "      <td>4000</td>\n",
       "      <td>shimla</td>\n",
       "    </tr>\n",
       "    <tr>\n",
       "      <th>tannu</th>\n",
       "      <td>50</td>\n",
       "      <td>5000</td>\n",
       "      <td>agra</td>\n",
       "    </tr>\n",
       "  </tbody>\n",
       "</table>\n",
       "</div>"
      ],
      "text/plain": [
       "       eno  esal   eadrs\n",
       "ename                   \n",
       "riya    40  4000  shimla\n",
       "tannu   50  5000    agra"
      ]
     },
     "execution_count": 7,
     "metadata": {},
     "output_type": "execute_result"
    }
   ],
   "source": [
    "# salary > 3000\n",
    "\n",
    "df.query(\"esal > 3000\")"
   ]
  },
  {
   "cell_type": "code",
   "execution_count": 8,
   "id": "367b0ee1",
   "metadata": {},
   "outputs": [
    {
     "data": {
      "text/html": [
       "<div>\n",
       "<style scoped>\n",
       "    .dataframe tbody tr th:only-of-type {\n",
       "        vertical-align: middle;\n",
       "    }\n",
       "\n",
       "    .dataframe tbody tr th {\n",
       "        vertical-align: top;\n",
       "    }\n",
       "\n",
       "    .dataframe thead th {\n",
       "        text-align: right;\n",
       "    }\n",
       "</style>\n",
       "<table border=\"1\" class=\"dataframe\">\n",
       "  <thead>\n",
       "    <tr style=\"text-align: right;\">\n",
       "      <th></th>\n",
       "      <th>eno</th>\n",
       "      <th>esal</th>\n",
       "      <th>eadrs</th>\n",
       "    </tr>\n",
       "    <tr>\n",
       "      <th>ename</th>\n",
       "      <th></th>\n",
       "      <th></th>\n",
       "      <th></th>\n",
       "    </tr>\n",
       "  </thead>\n",
       "  <tbody>\n",
       "  </tbody>\n",
       "</table>\n",
       "</div>"
      ],
      "text/plain": [
       "Empty DataFrame\n",
       "Columns: [eno, esal, eadrs]\n",
       "Index: []"
      ]
     },
     "execution_count": 8,
     "metadata": {},
     "output_type": "execute_result"
    }
   ],
   "source": [
    "# multiple conditions\n",
    "\n",
    "# doon emp salry > 3500\n",
    "\n",
    "df.query(\"eadrs == 'doon' and esal > 3500\")"
   ]
  },
  {
   "cell_type": "code",
   "execution_count": 9,
   "id": "3f70f634",
   "metadata": {},
   "outputs": [
    {
     "data": {
      "text/html": [
       "<div>\n",
       "<style scoped>\n",
       "    .dataframe tbody tr th:only-of-type {\n",
       "        vertical-align: middle;\n",
       "    }\n",
       "\n",
       "    .dataframe tbody tr th {\n",
       "        vertical-align: top;\n",
       "    }\n",
       "\n",
       "    .dataframe thead th {\n",
       "        text-align: right;\n",
       "    }\n",
       "</style>\n",
       "<table border=\"1\" class=\"dataframe\">\n",
       "  <thead>\n",
       "    <tr style=\"text-align: right;\">\n",
       "      <th></th>\n",
       "      <th>eno</th>\n",
       "      <th>esal</th>\n",
       "      <th>eadrs</th>\n",
       "    </tr>\n",
       "    <tr>\n",
       "      <th>ename</th>\n",
       "      <th></th>\n",
       "      <th></th>\n",
       "      <th></th>\n",
       "    </tr>\n",
       "  </thead>\n",
       "  <tbody>\n",
       "    <tr>\n",
       "      <th>prakriti</th>\n",
       "      <td>20</td>\n",
       "      <td>2000</td>\n",
       "      <td>delhi</td>\n",
       "    </tr>\n",
       "    <tr>\n",
       "      <th>arun</th>\n",
       "      <td>30</td>\n",
       "      <td>3000</td>\n",
       "      <td>rishikesh</td>\n",
       "    </tr>\n",
       "    <tr>\n",
       "      <th>riya</th>\n",
       "      <td>40</td>\n",
       "      <td>4000</td>\n",
       "      <td>shimla</td>\n",
       "    </tr>\n",
       "    <tr>\n",
       "      <th>tannu</th>\n",
       "      <td>50</td>\n",
       "      <td>5000</td>\n",
       "      <td>agra</td>\n",
       "    </tr>\n",
       "  </tbody>\n",
       "</table>\n",
       "</div>"
      ],
      "text/plain": [
       "          eno  esal      eadrs\n",
       "ename                         \n",
       "prakriti   20  2000      delhi\n",
       "arun       30  3000  rishikesh\n",
       "riya       40  4000     shimla\n",
       "tannu      50  5000       agra"
      ]
     },
     "execution_count": 9,
     "metadata": {},
     "output_type": "execute_result"
    }
   ],
   "source": [
    "# not from doon or salary>5000\n",
    "\n",
    "df.query(\"eadrs != 'doon' or esal > 5000\")"
   ]
  },
  {
   "cell_type": "code",
   "execution_count": 10,
   "id": "f5bdcc1c",
   "metadata": {},
   "outputs": [
    {
     "data": {
      "text/html": [
       "<div>\n",
       "<style scoped>\n",
       "    .dataframe tbody tr th:only-of-type {\n",
       "        vertical-align: middle;\n",
       "    }\n",
       "\n",
       "    .dataframe tbody tr th {\n",
       "        vertical-align: top;\n",
       "    }\n",
       "\n",
       "    .dataframe thead th {\n",
       "        text-align: right;\n",
       "    }\n",
       "</style>\n",
       "<table border=\"1\" class=\"dataframe\">\n",
       "  <thead>\n",
       "    <tr style=\"text-align: right;\">\n",
       "      <th></th>\n",
       "      <th>eno</th>\n",
       "      <th>esal</th>\n",
       "      <th>eadrs</th>\n",
       "    </tr>\n",
       "    <tr>\n",
       "      <th>ename</th>\n",
       "      <th></th>\n",
       "      <th></th>\n",
       "      <th></th>\n",
       "    </tr>\n",
       "  </thead>\n",
       "  <tbody>\n",
       "    <tr>\n",
       "      <th>nikhil</th>\n",
       "      <td>10</td>\n",
       "      <td>1000</td>\n",
       "      <td>doon</td>\n",
       "    </tr>\n",
       "    <tr>\n",
       "      <th>prakriti</th>\n",
       "      <td>20</td>\n",
       "      <td>2000</td>\n",
       "      <td>delhi</td>\n",
       "    </tr>\n",
       "  </tbody>\n",
       "</table>\n",
       "</div>"
      ],
      "text/plain": [
       "          eno  esal  eadrs\n",
       "ename                     \n",
       "nikhil     10  1000   doon\n",
       "prakriti   20  2000  delhi"
      ]
     },
     "execution_count": 10,
     "metadata": {},
     "output_type": "execute_result"
    }
   ],
   "source": [
    "# use of in , not in\n",
    "\n",
    "df.query(\"eadrs == ['doon' , 'delhi']\")"
   ]
  },
  {
   "cell_type": "code",
   "execution_count": 11,
   "id": "8019eec6",
   "metadata": {},
   "outputs": [
    {
     "data": {
      "text/html": [
       "<div>\n",
       "<style scoped>\n",
       "    .dataframe tbody tr th:only-of-type {\n",
       "        vertical-align: middle;\n",
       "    }\n",
       "\n",
       "    .dataframe tbody tr th {\n",
       "        vertical-align: top;\n",
       "    }\n",
       "\n",
       "    .dataframe thead th {\n",
       "        text-align: right;\n",
       "    }\n",
       "</style>\n",
       "<table border=\"1\" class=\"dataframe\">\n",
       "  <thead>\n",
       "    <tr style=\"text-align: right;\">\n",
       "      <th></th>\n",
       "      <th>eno</th>\n",
       "      <th>esal</th>\n",
       "      <th>eadrs</th>\n",
       "    </tr>\n",
       "    <tr>\n",
       "      <th>ename</th>\n",
       "      <th></th>\n",
       "      <th></th>\n",
       "      <th></th>\n",
       "    </tr>\n",
       "  </thead>\n",
       "  <tbody>\n",
       "    <tr>\n",
       "      <th>nikhil</th>\n",
       "      <td>10</td>\n",
       "      <td>1000</td>\n",
       "      <td>doon</td>\n",
       "    </tr>\n",
       "    <tr>\n",
       "      <th>prakriti</th>\n",
       "      <td>20</td>\n",
       "      <td>2000</td>\n",
       "      <td>delhi</td>\n",
       "    </tr>\n",
       "  </tbody>\n",
       "</table>\n",
       "</div>"
      ],
      "text/plain": [
       "          eno  esal  eadrs\n",
       "ename                     \n",
       "nikhil     10  1000   doon\n",
       "prakriti   20  2000  delhi"
      ]
     },
     "execution_count": 11,
     "metadata": {},
     "output_type": "execute_result"
    }
   ],
   "source": [
    "# or\n",
    "\n",
    "df.query(\"eadrs in  ['delhi' , 'doon']\")"
   ]
  },
  {
   "cell_type": "code",
   "execution_count": null,
   "id": "bc568020",
   "metadata": {},
   "outputs": [],
   "source": []
  },
  {
   "cell_type": "code",
   "execution_count": 12,
   "id": "ea16f82c",
   "metadata": {},
   "outputs": [],
   "source": [
    "# if column contain space\n",
    "\n",
    "df.columns = [\"a\" , \"b\" , \"a c\"]"
   ]
  },
  {
   "cell_type": "code",
   "execution_count": 16,
   "id": "21289d63",
   "metadata": {},
   "outputs": [
    {
     "data": {
      "text/html": [
       "<div>\n",
       "<style scoped>\n",
       "    .dataframe tbody tr th:only-of-type {\n",
       "        vertical-align: middle;\n",
       "    }\n",
       "\n",
       "    .dataframe tbody tr th {\n",
       "        vertical-align: top;\n",
       "    }\n",
       "\n",
       "    .dataframe thead th {\n",
       "        text-align: right;\n",
       "    }\n",
       "</style>\n",
       "<table border=\"1\" class=\"dataframe\">\n",
       "  <thead>\n",
       "    <tr style=\"text-align: right;\">\n",
       "      <th></th>\n",
       "      <th>a</th>\n",
       "      <th>b</th>\n",
       "      <th>a c</th>\n",
       "    </tr>\n",
       "    <tr>\n",
       "      <th>ename</th>\n",
       "      <th></th>\n",
       "      <th></th>\n",
       "      <th></th>\n",
       "    </tr>\n",
       "  </thead>\n",
       "  <tbody>\n",
       "    <tr>\n",
       "      <th>nikhil</th>\n",
       "      <td>10</td>\n",
       "      <td>1000</td>\n",
       "      <td>doon</td>\n",
       "    </tr>\n",
       "    <tr>\n",
       "      <th>prakriti</th>\n",
       "      <td>20</td>\n",
       "      <td>2000</td>\n",
       "      <td>delhi</td>\n",
       "    </tr>\n",
       "    <tr>\n",
       "      <th>arun</th>\n",
       "      <td>30</td>\n",
       "      <td>3000</td>\n",
       "      <td>rishikesh</td>\n",
       "    </tr>\n",
       "    <tr>\n",
       "      <th>riya</th>\n",
       "      <td>40</td>\n",
       "      <td>4000</td>\n",
       "      <td>shimla</td>\n",
       "    </tr>\n",
       "    <tr>\n",
       "      <th>tannu</th>\n",
       "      <td>50</td>\n",
       "      <td>5000</td>\n",
       "      <td>agra</td>\n",
       "    </tr>\n",
       "  </tbody>\n",
       "</table>\n",
       "</div>"
      ],
      "text/plain": [
       "           a     b        a c\n",
       "ename                        \n",
       "nikhil    10  1000       doon\n",
       "prakriti  20  2000      delhi\n",
       "arun      30  3000  rishikesh\n",
       "riya      40  4000     shimla\n",
       "tannu     50  5000       agra"
      ]
     },
     "execution_count": 16,
     "metadata": {},
     "output_type": "execute_result"
    }
   ],
   "source": [
    "df"
   ]
  },
  {
   "cell_type": "code",
   "execution_count": 17,
   "id": "8869113a",
   "metadata": {},
   "outputs": [
    {
     "ename": "SyntaxError",
     "evalue": "invalid syntax (<unknown>, line 1)",
     "output_type": "error",
     "traceback": [
      "Traceback \u001b[1;36m(most recent call last)\u001b[0m:\n",
      "  File \u001b[0;32m\"C:\\Users\\JP Computer\\anaconda3\\lib\\site-packages\\IPython\\core\\interactiveshell.py\"\u001b[0m, line \u001b[0;32m3437\u001b[0m, in \u001b[0;35mrun_code\u001b[0m\n    exec(code_obj, self.user_global_ns, self.user_ns)\n",
      "  File \u001b[0;32m\"<ipython-input-17-a976d06933b7>\"\u001b[0m, line \u001b[0;32m1\u001b[0m, in \u001b[0;35m<module>\u001b[0m\n    df.query(\"a c == 'doon'\")\n",
      "  File \u001b[0;32m\"C:\\Users\\JP Computer\\anaconda3\\lib\\site-packages\\pandas\\core\\frame.py\"\u001b[0m, line \u001b[0;32m3469\u001b[0m, in \u001b[0;35mquery\u001b[0m\n    res = self.eval(expr, **kwargs)\n",
      "  File \u001b[0;32m\"C:\\Users\\JP Computer\\anaconda3\\lib\\site-packages\\pandas\\core\\frame.py\"\u001b[0m, line \u001b[0;32m3599\u001b[0m, in \u001b[0;35meval\u001b[0m\n    return _eval(expr, inplace=inplace, **kwargs)\n",
      "  File \u001b[0;32m\"C:\\Users\\JP Computer\\anaconda3\\lib\\site-packages\\pandas\\core\\computation\\eval.py\"\u001b[0m, line \u001b[0;32m342\u001b[0m, in \u001b[0;35meval\u001b[0m\n    parsed_expr = Expr(expr, engine=engine, parser=parser, env=env)\n",
      "  File \u001b[0;32m\"C:\\Users\\JP Computer\\anaconda3\\lib\\site-packages\\pandas\\core\\computation\\expr.py\"\u001b[0m, line \u001b[0;32m798\u001b[0m, in \u001b[0;35m__init__\u001b[0m\n    self.terms = self.parse()\n",
      "  File \u001b[0;32m\"C:\\Users\\JP Computer\\anaconda3\\lib\\site-packages\\pandas\\core\\computation\\expr.py\"\u001b[0m, line \u001b[0;32m817\u001b[0m, in \u001b[0;35mparse\u001b[0m\n    return self._visitor.visit(self.expr)\n",
      "  File \u001b[0;32m\"C:\\Users\\JP Computer\\anaconda3\\lib\\site-packages\\pandas\\core\\computation\\expr.py\"\u001b[0m, line \u001b[0;32m397\u001b[0m, in \u001b[0;35mvisit\u001b[0m\n    raise e\n",
      "  File \u001b[0;32m\"C:\\Users\\JP Computer\\anaconda3\\lib\\site-packages\\pandas\\core\\computation\\expr.py\"\u001b[0m, line \u001b[0;32m393\u001b[0m, in \u001b[0;35mvisit\u001b[0m\n    node = ast.fix_missing_locations(ast.parse(clean))\n",
      "\u001b[1;36m  File \u001b[1;32m\"C:\\Users\\JP Computer\\anaconda3\\lib\\ast.py\"\u001b[1;36m, line \u001b[1;32m47\u001b[1;36m, in \u001b[1;35mparse\u001b[1;36m\u001b[0m\n\u001b[1;33m    return compile(source, filename, mode, flags,\u001b[0m\n",
      "\u001b[1;36m  File \u001b[1;32m\"<unknown>\"\u001b[1;36m, line \u001b[1;32m1\u001b[0m\n\u001b[1;33m    a c =='doon'\u001b[0m\n\u001b[1;37m      ^\u001b[0m\n\u001b[1;31mSyntaxError\u001b[0m\u001b[1;31m:\u001b[0m invalid syntax\n"
     ]
    }
   ],
   "source": [
    "df.query(\"a c == 'doon'\")"
   ]
  },
  {
   "cell_type": "code",
   "execution_count": 18,
   "id": "c93a9ccd",
   "metadata": {},
   "outputs": [
    {
     "data": {
      "text/html": [
       "<div>\n",
       "<style scoped>\n",
       "    .dataframe tbody tr th:only-of-type {\n",
       "        vertical-align: middle;\n",
       "    }\n",
       "\n",
       "    .dataframe tbody tr th {\n",
       "        vertical-align: top;\n",
       "    }\n",
       "\n",
       "    .dataframe thead th {\n",
       "        text-align: right;\n",
       "    }\n",
       "</style>\n",
       "<table border=\"1\" class=\"dataframe\">\n",
       "  <thead>\n",
       "    <tr style=\"text-align: right;\">\n",
       "      <th></th>\n",
       "      <th>a</th>\n",
       "      <th>b</th>\n",
       "      <th>a c</th>\n",
       "    </tr>\n",
       "    <tr>\n",
       "      <th>ename</th>\n",
       "      <th></th>\n",
       "      <th></th>\n",
       "      <th></th>\n",
       "    </tr>\n",
       "  </thead>\n",
       "  <tbody>\n",
       "    <tr>\n",
       "      <th>nikhil</th>\n",
       "      <td>10</td>\n",
       "      <td>1000</td>\n",
       "      <td>doon</td>\n",
       "    </tr>\n",
       "  </tbody>\n",
       "</table>\n",
       "</div>"
      ],
      "text/plain": [
       "         a     b   a c\n",
       "ename                 \n",
       "nikhil  10  1000  doon"
      ]
     },
     "execution_count": 18,
     "metadata": {},
     "output_type": "execute_result"
    }
   ],
   "source": [
    "# how to resolve \n",
    "# use back quotes\n",
    "\n",
    "df.query(\"`a c`== 'doon'\")"
   ]
  },
  {
   "cell_type": "code",
   "execution_count": 20,
   "id": "16942bee",
   "metadata": {},
   "outputs": [
    {
     "data": {
      "text/html": [
       "<div>\n",
       "<style scoped>\n",
       "    .dataframe tbody tr th:only-of-type {\n",
       "        vertical-align: middle;\n",
       "    }\n",
       "\n",
       "    .dataframe tbody tr th {\n",
       "        vertical-align: top;\n",
       "    }\n",
       "\n",
       "    .dataframe thead th {\n",
       "        text-align: right;\n",
       "    }\n",
       "</style>\n",
       "<table border=\"1\" class=\"dataframe\">\n",
       "  <thead>\n",
       "    <tr style=\"text-align: right;\">\n",
       "      <th></th>\n",
       "      <th>eno</th>\n",
       "      <th>esal</th>\n",
       "      <th>eadrs</th>\n",
       "    </tr>\n",
       "    <tr>\n",
       "      <th>ename</th>\n",
       "      <th></th>\n",
       "      <th></th>\n",
       "      <th></th>\n",
       "    </tr>\n",
       "  </thead>\n",
       "  <tbody>\n",
       "    <tr>\n",
       "      <th>nikhil</th>\n",
       "      <td>10</td>\n",
       "      <td>1000</td>\n",
       "      <td>doon</td>\n",
       "    </tr>\n",
       "    <tr>\n",
       "      <th>prakriti</th>\n",
       "      <td>20</td>\n",
       "      <td>2000</td>\n",
       "      <td>delhi</td>\n",
       "    </tr>\n",
       "    <tr>\n",
       "      <th>arun</th>\n",
       "      <td>30</td>\n",
       "      <td>3000</td>\n",
       "      <td>rishikesh</td>\n",
       "    </tr>\n",
       "    <tr>\n",
       "      <th>riya</th>\n",
       "      <td>40</td>\n",
       "      <td>4000</td>\n",
       "      <td>shimla</td>\n",
       "    </tr>\n",
       "    <tr>\n",
       "      <th>tannu</th>\n",
       "      <td>50</td>\n",
       "      <td>5000</td>\n",
       "      <td>agra</td>\n",
       "    </tr>\n",
       "  </tbody>\n",
       "</table>\n",
       "</div>"
      ],
      "text/plain": [
       "          eno  esal      eadrs\n",
       "ename                         \n",
       "nikhil     10  1000       doon\n",
       "prakriti   20  2000      delhi\n",
       "arun       30  3000  rishikesh\n",
       "riya       40  4000     shimla\n",
       "tannu      50  5000       agra"
      ]
     },
     "execution_count": 20,
     "metadata": {},
     "output_type": "execute_result"
    }
   ],
   "source": [
    "# apply() method for rows\n",
    "\n",
    "# same as series\n",
    "\n",
    "# double salary of each emp\n",
    "\n",
    "import pandas as pd\n",
    "df = pd.read_csv(\"emp.csv\" , index_col = \"ename\")\n",
    "df.head()"
   ]
  },
  {
   "cell_type": "code",
   "execution_count": 21,
   "id": "5b674b4b",
   "metadata": {},
   "outputs": [],
   "source": [
    "df[\"esal\"] = df[\"esal\"].apply(lambda x: 2*x)"
   ]
  },
  {
   "cell_type": "code",
   "execution_count": 22,
   "id": "98bbd9f7",
   "metadata": {},
   "outputs": [
    {
     "data": {
      "text/html": [
       "<div>\n",
       "<style scoped>\n",
       "    .dataframe tbody tr th:only-of-type {\n",
       "        vertical-align: middle;\n",
       "    }\n",
       "\n",
       "    .dataframe tbody tr th {\n",
       "        vertical-align: top;\n",
       "    }\n",
       "\n",
       "    .dataframe thead th {\n",
       "        text-align: right;\n",
       "    }\n",
       "</style>\n",
       "<table border=\"1\" class=\"dataframe\">\n",
       "  <thead>\n",
       "    <tr style=\"text-align: right;\">\n",
       "      <th></th>\n",
       "      <th>eno</th>\n",
       "      <th>esal</th>\n",
       "      <th>eadrs</th>\n",
       "    </tr>\n",
       "    <tr>\n",
       "      <th>ename</th>\n",
       "      <th></th>\n",
       "      <th></th>\n",
       "      <th></th>\n",
       "    </tr>\n",
       "  </thead>\n",
       "  <tbody>\n",
       "    <tr>\n",
       "      <th>nikhil</th>\n",
       "      <td>10</td>\n",
       "      <td>2000</td>\n",
       "      <td>doon</td>\n",
       "    </tr>\n",
       "    <tr>\n",
       "      <th>prakriti</th>\n",
       "      <td>20</td>\n",
       "      <td>4000</td>\n",
       "      <td>delhi</td>\n",
       "    </tr>\n",
       "    <tr>\n",
       "      <th>arun</th>\n",
       "      <td>30</td>\n",
       "      <td>6000</td>\n",
       "      <td>rishikesh</td>\n",
       "    </tr>\n",
       "    <tr>\n",
       "      <th>riya</th>\n",
       "      <td>40</td>\n",
       "      <td>8000</td>\n",
       "      <td>shimla</td>\n",
       "    </tr>\n",
       "    <tr>\n",
       "      <th>tannu</th>\n",
       "      <td>50</td>\n",
       "      <td>10000</td>\n",
       "      <td>agra</td>\n",
       "    </tr>\n",
       "  </tbody>\n",
       "</table>\n",
       "</div>"
      ],
      "text/plain": [
       "          eno   esal      eadrs\n",
       "ename                          \n",
       "nikhil     10   2000       doon\n",
       "prakriti   20   4000      delhi\n",
       "arun       30   6000  rishikesh\n",
       "riya       40   8000     shimla\n",
       "tannu      50  10000       agra"
      ]
     },
     "execution_count": 22,
     "metadata": {},
     "output_type": "execute_result"
    }
   ],
   "source": [
    "df"
   ]
  },
  {
   "cell_type": "code",
   "execution_count": 23,
   "id": "0f7d684a",
   "metadata": {},
   "outputs": [
    {
     "data": {
      "text/html": [
       "<div>\n",
       "<style scoped>\n",
       "    .dataframe tbody tr th:only-of-type {\n",
       "        vertical-align: middle;\n",
       "    }\n",
       "\n",
       "    .dataframe tbody tr th {\n",
       "        vertical-align: top;\n",
       "    }\n",
       "\n",
       "    .dataframe thead th {\n",
       "        text-align: right;\n",
       "    }\n",
       "</style>\n",
       "<table border=\"1\" class=\"dataframe\">\n",
       "  <thead>\n",
       "    <tr style=\"text-align: right;\">\n",
       "      <th></th>\n",
       "      <th>eno</th>\n",
       "      <th>esal</th>\n",
       "      <th>eadrs</th>\n",
       "    </tr>\n",
       "    <tr>\n",
       "      <th>ename</th>\n",
       "      <th></th>\n",
       "      <th></th>\n",
       "      <th></th>\n",
       "    </tr>\n",
       "  </thead>\n",
       "  <tbody>\n",
       "    <tr>\n",
       "      <th>prakriti</th>\n",
       "      <td>20</td>\n",
       "      <td>4000</td>\n",
       "      <td>delhi</td>\n",
       "    </tr>\n",
       "  </tbody>\n",
       "</table>\n",
       "</div>"
      ],
      "text/plain": [
       "          eno  esal  eadrs\n",
       "ename                     \n",
       "prakriti   20  4000  delhi"
      ]
     },
     "execution_count": 23,
     "metadata": {},
     "output_type": "execute_result"
    }
   ],
   "source": [
    "# sample()  - random row from dataframe\n",
    "\n",
    "df.sample()"
   ]
  },
  {
   "cell_type": "code",
   "execution_count": 24,
   "id": "fda60d2a",
   "metadata": {},
   "outputs": [
    {
     "data": {
      "text/html": [
       "<div>\n",
       "<style scoped>\n",
       "    .dataframe tbody tr th:only-of-type {\n",
       "        vertical-align: middle;\n",
       "    }\n",
       "\n",
       "    .dataframe tbody tr th {\n",
       "        vertical-align: top;\n",
       "    }\n",
       "\n",
       "    .dataframe thead th {\n",
       "        text-align: right;\n",
       "    }\n",
       "</style>\n",
       "<table border=\"1\" class=\"dataframe\">\n",
       "  <thead>\n",
       "    <tr style=\"text-align: right;\">\n",
       "      <th></th>\n",
       "      <th>eno</th>\n",
       "      <th>esal</th>\n",
       "      <th>eadrs</th>\n",
       "    </tr>\n",
       "    <tr>\n",
       "      <th>ename</th>\n",
       "      <th></th>\n",
       "      <th></th>\n",
       "      <th></th>\n",
       "    </tr>\n",
       "  </thead>\n",
       "  <tbody>\n",
       "    <tr>\n",
       "      <th>prakriti</th>\n",
       "      <td>20</td>\n",
       "      <td>4000</td>\n",
       "      <td>delhi</td>\n",
       "    </tr>\n",
       "    <tr>\n",
       "      <th>tannu</th>\n",
       "      <td>50</td>\n",
       "      <td>10000</td>\n",
       "      <td>agra</td>\n",
       "    </tr>\n",
       "    <tr>\n",
       "      <th>nikhil</th>\n",
       "      <td>10</td>\n",
       "      <td>2000</td>\n",
       "      <td>doon</td>\n",
       "    </tr>\n",
       "  </tbody>\n",
       "</table>\n",
       "</div>"
      ],
      "text/plain": [
       "          eno   esal  eadrs\n",
       "ename                      \n",
       "prakriti   20   4000  delhi\n",
       "tannu      50  10000   agra\n",
       "nikhil     10   2000   doon"
      ]
     },
     "execution_count": 24,
     "metadata": {},
     "output_type": "execute_result"
    }
   ],
   "source": [
    "# 3 random rows\n",
    "\n",
    "df.sample(3)"
   ]
  },
  {
   "cell_type": "code",
   "execution_count": 25,
   "id": "6f81fa4b",
   "metadata": {},
   "outputs": [
    {
     "data": {
      "text/html": [
       "<div>\n",
       "<style scoped>\n",
       "    .dataframe tbody tr th:only-of-type {\n",
       "        vertical-align: middle;\n",
       "    }\n",
       "\n",
       "    .dataframe tbody tr th {\n",
       "        vertical-align: top;\n",
       "    }\n",
       "\n",
       "    .dataframe thead th {\n",
       "        text-align: right;\n",
       "    }\n",
       "</style>\n",
       "<table border=\"1\" class=\"dataframe\">\n",
       "  <thead>\n",
       "    <tr style=\"text-align: right;\">\n",
       "      <th></th>\n",
       "      <th>eno</th>\n",
       "      <th>esal</th>\n",
       "      <th>eadrs</th>\n",
       "    </tr>\n",
       "    <tr>\n",
       "      <th>ename</th>\n",
       "      <th></th>\n",
       "      <th></th>\n",
       "      <th></th>\n",
       "    </tr>\n",
       "  </thead>\n",
       "  <tbody>\n",
       "    <tr>\n",
       "      <th>arun</th>\n",
       "      <td>30</td>\n",
       "      <td>6000</td>\n",
       "      <td>rishikesh</td>\n",
       "    </tr>\n",
       "  </tbody>\n",
       "</table>\n",
       "</div>"
      ],
      "text/plain": [
       "       eno  esal      eadrs\n",
       "ename                      \n",
       "arun    30  6000  rishikesh"
      ]
     },
     "execution_count": 25,
     "metadata": {},
     "output_type": "execute_result"
    }
   ],
   "source": [
    "# 25% sample\n",
    "\n",
    "df.sample(frac = 0.25)"
   ]
  },
  {
   "cell_type": "code",
   "execution_count": 26,
   "id": "57de2121",
   "metadata": {},
   "outputs": [
    {
     "data": {
      "text/html": [
       "<div>\n",
       "<style scoped>\n",
       "    .dataframe tbody tr th:only-of-type {\n",
       "        vertical-align: middle;\n",
       "    }\n",
       "\n",
       "    .dataframe tbody tr th {\n",
       "        vertical-align: top;\n",
       "    }\n",
       "\n",
       "    .dataframe thead th {\n",
       "        text-align: right;\n",
       "    }\n",
       "</style>\n",
       "<table border=\"1\" class=\"dataframe\">\n",
       "  <thead>\n",
       "    <tr style=\"text-align: right;\">\n",
       "      <th></th>\n",
       "      <th>eno</th>\n",
       "      <th>esal</th>\n",
       "      <th>eadrs</th>\n",
       "    </tr>\n",
       "    <tr>\n",
       "      <th>ename</th>\n",
       "      <th></th>\n",
       "      <th></th>\n",
       "      <th></th>\n",
       "    </tr>\n",
       "  </thead>\n",
       "  <tbody>\n",
       "    <tr>\n",
       "      <th>nikhil</th>\n",
       "      <td>10</td>\n",
       "      <td>2000</td>\n",
       "      <td>doon</td>\n",
       "    </tr>\n",
       "    <tr>\n",
       "      <th>prakriti</th>\n",
       "      <td>20</td>\n",
       "      <td>4000</td>\n",
       "      <td>delhi</td>\n",
       "    </tr>\n",
       "    <tr>\n",
       "      <th>arun</th>\n",
       "      <td>30</td>\n",
       "      <td>6000</td>\n",
       "      <td>rishikesh</td>\n",
       "    </tr>\n",
       "    <tr>\n",
       "      <th>riya</th>\n",
       "      <td>40</td>\n",
       "      <td>8000</td>\n",
       "      <td>shimla</td>\n",
       "    </tr>\n",
       "    <tr>\n",
       "      <th>tannu</th>\n",
       "      <td>50</td>\n",
       "      <td>10000</td>\n",
       "      <td>agra</td>\n",
       "    </tr>\n",
       "  </tbody>\n",
       "</table>\n",
       "</div>"
      ],
      "text/plain": [
       "          eno   esal      eadrs\n",
       "ename                          \n",
       "nikhil     10   2000       doon\n",
       "prakriti   20   4000      delhi\n",
       "arun       30   6000  rishikesh\n",
       "riya       40   8000     shimla\n",
       "tannu      50  10000       agra"
      ]
     },
     "execution_count": 26,
     "metadata": {},
     "output_type": "execute_result"
    }
   ],
   "source": [
    "df"
   ]
  },
  {
   "cell_type": "code",
   "execution_count": 27,
   "id": "ac45d3ef",
   "metadata": {},
   "outputs": [
    {
     "data": {
      "text/html": [
       "<div>\n",
       "<style scoped>\n",
       "    .dataframe tbody tr th:only-of-type {\n",
       "        vertical-align: middle;\n",
       "    }\n",
       "\n",
       "    .dataframe tbody tr th {\n",
       "        vertical-align: top;\n",
       "    }\n",
       "\n",
       "    .dataframe thead th {\n",
       "        text-align: right;\n",
       "    }\n",
       "</style>\n",
       "<table border=\"1\" class=\"dataframe\">\n",
       "  <thead>\n",
       "    <tr style=\"text-align: right;\">\n",
       "      <th></th>\n",
       "      <th>eno</th>\n",
       "    </tr>\n",
       "    <tr>\n",
       "      <th>ename</th>\n",
       "      <th></th>\n",
       "    </tr>\n",
       "  </thead>\n",
       "  <tbody>\n",
       "    <tr>\n",
       "      <th>nikhil</th>\n",
       "      <td>10</td>\n",
       "    </tr>\n",
       "    <tr>\n",
       "      <th>prakriti</th>\n",
       "      <td>20</td>\n",
       "    </tr>\n",
       "    <tr>\n",
       "      <th>arun</th>\n",
       "      <td>30</td>\n",
       "    </tr>\n",
       "    <tr>\n",
       "      <th>riya</th>\n",
       "      <td>40</td>\n",
       "    </tr>\n",
       "    <tr>\n",
       "      <th>tannu</th>\n",
       "      <td>50</td>\n",
       "    </tr>\n",
       "  </tbody>\n",
       "</table>\n",
       "</div>"
      ],
      "text/plain": [
       "          eno\n",
       "ename        \n",
       "nikhil     10\n",
       "prakriti   20\n",
       "arun       30\n",
       "riya       40\n",
       "tannu      50"
      ]
     },
     "execution_count": 27,
     "metadata": {},
     "output_type": "execute_result"
    }
   ],
   "source": [
    "df.sample(1 , axis = 1)    # for column"
   ]
  },
  {
   "cell_type": "code",
   "execution_count": 28,
   "id": "82591336",
   "metadata": {},
   "outputs": [
    {
     "data": {
      "text/html": [
       "<div>\n",
       "<style scoped>\n",
       "    .dataframe tbody tr th:only-of-type {\n",
       "        vertical-align: middle;\n",
       "    }\n",
       "\n",
       "    .dataframe tbody tr th {\n",
       "        vertical-align: top;\n",
       "    }\n",
       "\n",
       "    .dataframe thead th {\n",
       "        text-align: right;\n",
       "    }\n",
       "</style>\n",
       "<table border=\"1\" class=\"dataframe\">\n",
       "  <thead>\n",
       "    <tr style=\"text-align: right;\">\n",
       "      <th></th>\n",
       "      <th>eno</th>\n",
       "      <th>esal</th>\n",
       "      <th>eadrs</th>\n",
       "    </tr>\n",
       "    <tr>\n",
       "      <th>ename</th>\n",
       "      <th></th>\n",
       "      <th></th>\n",
       "      <th></th>\n",
       "    </tr>\n",
       "  </thead>\n",
       "  <tbody>\n",
       "    <tr>\n",
       "      <th>tannu</th>\n",
       "      <td>50</td>\n",
       "      <td>10000</td>\n",
       "      <td>agra</td>\n",
       "    </tr>\n",
       "    <tr>\n",
       "      <th>riya</th>\n",
       "      <td>40</td>\n",
       "      <td>8000</td>\n",
       "      <td>shimla</td>\n",
       "    </tr>\n",
       "    <tr>\n",
       "      <th>arun</th>\n",
       "      <td>30</td>\n",
       "      <td>6000</td>\n",
       "      <td>rishikesh</td>\n",
       "    </tr>\n",
       "  </tbody>\n",
       "</table>\n",
       "</div>"
      ],
      "text/plain": [
       "       eno   esal      eadrs\n",
       "ename                       \n",
       "tannu   50  10000       agra\n",
       "riya    40   8000     shimla\n",
       "arun    30   6000  rishikesh"
      ]
     },
     "execution_count": 28,
     "metadata": {},
     "output_type": "execute_result"
    }
   ],
   "source": [
    "# nlargest()\n",
    "\n",
    "# 3 highest salary\n",
    "\n",
    "df.nlargest(3 , columns = \"esal\")"
   ]
  },
  {
   "cell_type": "code",
   "execution_count": 29,
   "id": "0627ef8d",
   "metadata": {},
   "outputs": [
    {
     "data": {
      "text/html": [
       "<div>\n",
       "<style scoped>\n",
       "    .dataframe tbody tr th:only-of-type {\n",
       "        vertical-align: middle;\n",
       "    }\n",
       "\n",
       "    .dataframe tbody tr th {\n",
       "        vertical-align: top;\n",
       "    }\n",
       "\n",
       "    .dataframe thead th {\n",
       "        text-align: right;\n",
       "    }\n",
       "</style>\n",
       "<table border=\"1\" class=\"dataframe\">\n",
       "  <thead>\n",
       "    <tr style=\"text-align: right;\">\n",
       "      <th></th>\n",
       "      <th>eno</th>\n",
       "      <th>esal</th>\n",
       "      <th>eadrs</th>\n",
       "    </tr>\n",
       "    <tr>\n",
       "      <th>ename</th>\n",
       "      <th></th>\n",
       "      <th></th>\n",
       "      <th></th>\n",
       "    </tr>\n",
       "  </thead>\n",
       "  <tbody>\n",
       "    <tr>\n",
       "      <th>nikhil</th>\n",
       "      <td>10</td>\n",
       "      <td>1000</td>\n",
       "      <td>doon</td>\n",
       "    </tr>\n",
       "    <tr>\n",
       "      <th>prakriti</th>\n",
       "      <td>20</td>\n",
       "      <td>2000</td>\n",
       "      <td>delhi</td>\n",
       "    </tr>\n",
       "  </tbody>\n",
       "</table>\n",
       "</div>"
      ],
      "text/plain": [
       "          eno  esal  eadrs\n",
       "ename                     \n",
       "nikhil     10  1000   doon\n",
       "prakriti   20  2000  delhi"
      ]
     },
     "execution_count": 29,
     "metadata": {},
     "output_type": "execute_result"
    }
   ],
   "source": [
    "df = pd.read_csv(\"emp.csv\", index_col = \"ename\")\n",
    "\n",
    "\n",
    "df.nsmallest(2 , columns = \"esal\")"
   ]
  },
  {
   "cell_type": "markdown",
   "id": "9a30b309",
   "metadata": {},
   "source": [
    "### filter using where()"
   ]
  },
  {
   "cell_type": "code",
   "execution_count": 30,
   "id": "db491f97",
   "metadata": {},
   "outputs": [
    {
     "data": {
      "text/html": [
       "<div>\n",
       "<style scoped>\n",
       "    .dataframe tbody tr th:only-of-type {\n",
       "        vertical-align: middle;\n",
       "    }\n",
       "\n",
       "    .dataframe tbody tr th {\n",
       "        vertical-align: top;\n",
       "    }\n",
       "\n",
       "    .dataframe thead th {\n",
       "        text-align: right;\n",
       "    }\n",
       "</style>\n",
       "<table border=\"1\" class=\"dataframe\">\n",
       "  <thead>\n",
       "    <tr style=\"text-align: right;\">\n",
       "      <th></th>\n",
       "      <th>eno</th>\n",
       "      <th>esal</th>\n",
       "      <th>eadrs</th>\n",
       "    </tr>\n",
       "    <tr>\n",
       "      <th>ename</th>\n",
       "      <th></th>\n",
       "      <th></th>\n",
       "      <th></th>\n",
       "    </tr>\n",
       "  </thead>\n",
       "  <tbody>\n",
       "    <tr>\n",
       "      <th>nikhil</th>\n",
       "      <td>10.0</td>\n",
       "      <td>1000.0</td>\n",
       "      <td>doon</td>\n",
       "    </tr>\n",
       "    <tr>\n",
       "      <th>prakriti</th>\n",
       "      <td>NaN</td>\n",
       "      <td>NaN</td>\n",
       "      <td>NaN</td>\n",
       "    </tr>\n",
       "    <tr>\n",
       "      <th>arun</th>\n",
       "      <td>NaN</td>\n",
       "      <td>NaN</td>\n",
       "      <td>NaN</td>\n",
       "    </tr>\n",
       "    <tr>\n",
       "      <th>riya</th>\n",
       "      <td>NaN</td>\n",
       "      <td>NaN</td>\n",
       "      <td>NaN</td>\n",
       "    </tr>\n",
       "    <tr>\n",
       "      <th>tannu</th>\n",
       "      <td>NaN</td>\n",
       "      <td>NaN</td>\n",
       "      <td>NaN</td>\n",
       "    </tr>\n",
       "  </tbody>\n",
       "</table>\n",
       "</div>"
      ],
      "text/plain": [
       "           eno    esal eadrs\n",
       "ename                       \n",
       "nikhil    10.0  1000.0  doon\n",
       "prakriti   NaN     NaN   NaN\n",
       "arun       NaN     NaN   NaN\n",
       "riya       NaN     NaN   NaN\n",
       "tannu      NaN     NaN   NaN"
      ]
     },
     "execution_count": 30,
     "metadata": {},
     "output_type": "execute_result"
    }
   ],
   "source": [
    "# return full dataframe\n",
    "\n",
    "# select rows where adrs  = doon\n",
    "\n",
    "c = df[\"eadrs\"] ==\"doon\"\n",
    "\n",
    "df.where(c)"
   ]
  },
  {
   "cell_type": "code",
   "execution_count": 32,
   "id": "26fc43df",
   "metadata": {},
   "outputs": [
    {
     "data": {
      "text/html": [
       "<div>\n",
       "<style scoped>\n",
       "    .dataframe tbody tr th:only-of-type {\n",
       "        vertical-align: middle;\n",
       "    }\n",
       "\n",
       "    .dataframe tbody tr th {\n",
       "        vertical-align: top;\n",
       "    }\n",
       "\n",
       "    .dataframe thead th {\n",
       "        text-align: right;\n",
       "    }\n",
       "</style>\n",
       "<table border=\"1\" class=\"dataframe\">\n",
       "  <thead>\n",
       "    <tr style=\"text-align: right;\">\n",
       "      <th></th>\n",
       "      <th>eno</th>\n",
       "      <th>esal</th>\n",
       "      <th>eadrs</th>\n",
       "    </tr>\n",
       "    <tr>\n",
       "      <th>ename</th>\n",
       "      <th></th>\n",
       "      <th></th>\n",
       "      <th></th>\n",
       "    </tr>\n",
       "  </thead>\n",
       "  <tbody>\n",
       "    <tr>\n",
       "      <th>nikhil</th>\n",
       "      <td>10</td>\n",
       "      <td>1000</td>\n",
       "      <td>doon</td>\n",
       "    </tr>\n",
       "    <tr>\n",
       "      <th>prakriti</th>\n",
       "      <td>20</td>\n",
       "      <td>2000</td>\n",
       "      <td>delhi</td>\n",
       "    </tr>\n",
       "    <tr>\n",
       "      <th>arun</th>\n",
       "      <td>30</td>\n",
       "      <td>3000</td>\n",
       "      <td>rishikesh</td>\n",
       "    </tr>\n",
       "    <tr>\n",
       "      <th>riya</th>\n",
       "      <td>40</td>\n",
       "      <td>4000</td>\n",
       "      <td>shimla</td>\n",
       "    </tr>\n",
       "    <tr>\n",
       "      <th>tannu</th>\n",
       "      <td>50</td>\n",
       "      <td>5000</td>\n",
       "      <td>agra</td>\n",
       "    </tr>\n",
       "  </tbody>\n",
       "</table>\n",
       "</div>"
      ],
      "text/plain": [
       "          eno  esal      eadrs\n",
       "ename                         \n",
       "nikhil     10  1000       doon\n",
       "prakriti   20  2000      delhi\n",
       "arun       30  3000  rishikesh\n",
       "riya       40  4000     shimla\n",
       "tannu      50  5000       agra"
      ]
     },
     "execution_count": 32,
     "metadata": {},
     "output_type": "execute_result"
    }
   ],
   "source": [
    "df"
   ]
  },
  {
   "cell_type": "code",
   "execution_count": 33,
   "id": "f5ba9987",
   "metadata": {},
   "outputs": [
    {
     "data": {
      "text/plain": [
       "2000"
      ]
     },
     "execution_count": 33,
     "metadata": {},
     "output_type": "execute_result"
    }
   ],
   "source": [
    "df.loc[\"prakriti\",\"esal\"]"
   ]
  },
  {
   "cell_type": "code",
   "execution_count": 34,
   "id": "c4a64e4a",
   "metadata": {},
   "outputs": [
    {
     "data": {
      "text/html": [
       "<div>\n",
       "<style scoped>\n",
       "    .dataframe tbody tr th:only-of-type {\n",
       "        vertical-align: middle;\n",
       "    }\n",
       "\n",
       "    .dataframe tbody tr th {\n",
       "        vertical-align: top;\n",
       "    }\n",
       "\n",
       "    .dataframe thead th {\n",
       "        text-align: right;\n",
       "    }\n",
       "</style>\n",
       "<table border=\"1\" class=\"dataframe\">\n",
       "  <thead>\n",
       "    <tr style=\"text-align: right;\">\n",
       "      <th></th>\n",
       "      <th>eno</th>\n",
       "      <th>esal</th>\n",
       "      <th>eadrs</th>\n",
       "    </tr>\n",
       "    <tr>\n",
       "      <th>ename</th>\n",
       "      <th></th>\n",
       "      <th></th>\n",
       "      <th></th>\n",
       "    </tr>\n",
       "  </thead>\n",
       "  <tbody>\n",
       "    <tr>\n",
       "      <th>nikhil</th>\n",
       "      <td>10</td>\n",
       "      <td>1000</td>\n",
       "      <td>doon</td>\n",
       "    </tr>\n",
       "    <tr>\n",
       "      <th>prakriti</th>\n",
       "      <td>20</td>\n",
       "      <td>2000</td>\n",
       "      <td>delhi</td>\n",
       "    </tr>\n",
       "    <tr>\n",
       "      <th>arun</th>\n",
       "      <td>30</td>\n",
       "      <td>3000</td>\n",
       "      <td>rishikesh</td>\n",
       "    </tr>\n",
       "    <tr>\n",
       "      <th>riya</th>\n",
       "      <td>40</td>\n",
       "      <td>4000</td>\n",
       "      <td>shimla</td>\n",
       "    </tr>\n",
       "    <tr>\n",
       "      <th>tannu</th>\n",
       "      <td>50</td>\n",
       "      <td>5000</td>\n",
       "      <td>agra</td>\n",
       "    </tr>\n",
       "  </tbody>\n",
       "</table>\n",
       "</div>"
      ],
      "text/plain": [
       "          eno  esal      eadrs\n",
       "ename                         \n",
       "nikhil     10  1000       doon\n",
       "prakriti   20  2000      delhi\n",
       "arun       30  3000  rishikesh\n",
       "riya       40  4000     shimla\n",
       "tannu      50  5000       agra"
      ]
     },
     "execution_count": 34,
     "metadata": {},
     "output_type": "execute_result"
    }
   ],
   "source": [
    "# string method in pandas\n",
    "\n",
    "import pandas as pd\n",
    "df = pd.read_csv(\"emp.csv\" , index_col = \"ename\")\n",
    "df.head()"
   ]
  },
  {
   "cell_type": "code",
   "execution_count": 35,
   "id": "6be7624c",
   "metadata": {},
   "outputs": [
    {
     "data": {
      "text/plain": [
       "ename\n",
       "nikhil           DOON\n",
       "prakriti        DELHI\n",
       "arun        RISHIKESH\n",
       "riya           SHIMLA\n",
       "tannu            AGRA\n",
       "Name: eadrs, dtype: object"
      ]
     },
     "execution_count": 35,
     "metadata": {},
     "output_type": "execute_result"
    }
   ],
   "source": [
    "df[\"eadrs\"].str.upper()"
   ]
  },
  {
   "cell_type": "code",
   "execution_count": 36,
   "id": "ec0f77e2",
   "metadata": {},
   "outputs": [
    {
     "data": {
      "text/plain": [
       "ename\n",
       "nikhil           Doon\n",
       "prakriti        Delhi\n",
       "arun        Rishikesh\n",
       "riya           Shimla\n",
       "tannu            Agra\n",
       "Name: eadrs, dtype: object"
      ]
     },
     "execution_count": 36,
     "metadata": {},
     "output_type": "execute_result"
    }
   ],
   "source": [
    "df[\"eadrs\"].str.title()"
   ]
  },
  {
   "cell_type": "code",
   "execution_count": 37,
   "id": "4b96adb0",
   "metadata": {},
   "outputs": [
    {
     "data": {
      "text/plain": [
       "ename\n",
       "arun    rishikesh\n",
       "riya       shimla\n",
       "Name: eadrs, dtype: object"
      ]
     },
     "execution_count": 37,
     "metadata": {},
     "output_type": "execute_result"
    }
   ],
   "source": [
    "# for particulr str or multiple index not need to write str\n",
    "\n",
    "df[\"eadrs\"][2].upper()\n",
    "df[\"eadrs\"][[2,3]].replace(\"o\" , \"r\")"
   ]
  },
  {
   "cell_type": "code",
   "execution_count": 38,
   "id": "e6b503b0",
   "metadata": {},
   "outputs": [
    {
     "data": {
      "text/plain": [
       "ename\n",
       "nikhil      4\n",
       "prakriti    5\n",
       "arun        9\n",
       "riya        6\n",
       "tannu       4\n",
       "Name: eadrs, dtype: int64"
      ]
     },
     "execution_count": 38,
     "metadata": {},
     "output_type": "execute_result"
    }
   ],
   "source": [
    "df[\"eadrs\"].str.len()"
   ]
  },
  {
   "cell_type": "code",
   "execution_count": 39,
   "id": "5689d195",
   "metadata": {},
   "outputs": [
    {
     "data": {
      "text/html": [
       "<div>\n",
       "<style scoped>\n",
       "    .dataframe tbody tr th:only-of-type {\n",
       "        vertical-align: middle;\n",
       "    }\n",
       "\n",
       "    .dataframe tbody tr th {\n",
       "        vertical-align: top;\n",
       "    }\n",
       "\n",
       "    .dataframe thead th {\n",
       "        text-align: right;\n",
       "    }\n",
       "</style>\n",
       "<table border=\"1\" class=\"dataframe\">\n",
       "  <thead>\n",
       "    <tr style=\"text-align: right;\">\n",
       "      <th></th>\n",
       "      <th>eno</th>\n",
       "      <th>esal</th>\n",
       "      <th>eadrs</th>\n",
       "    </tr>\n",
       "    <tr>\n",
       "      <th>ename</th>\n",
       "      <th></th>\n",
       "      <th></th>\n",
       "      <th></th>\n",
       "    </tr>\n",
       "  </thead>\n",
       "  <tbody>\n",
       "    <tr>\n",
       "      <th>prakriti</th>\n",
       "      <td>20</td>\n",
       "      <td>2000</td>\n",
       "      <td>delhi</td>\n",
       "    </tr>\n",
       "  </tbody>\n",
       "</table>\n",
       "</div>"
      ],
      "text/plain": [
       "          eno  esal  eadrs\n",
       "ename                     \n",
       "prakriti   20  2000  delhi"
      ]
     },
     "execution_count": 39,
     "metadata": {},
     "output_type": "execute_result"
    }
   ],
   "source": [
    "df[df[\"eadrs\"].str.endswith(\"i\")]"
   ]
  },
  {
   "cell_type": "code",
   "execution_count": null,
   "id": "4a3144b0",
   "metadata": {},
   "outputs": [],
   "source": []
  }
 ],
 "metadata": {
  "kernelspec": {
   "display_name": "Python 3",
   "language": "python",
   "name": "python3"
  },
  "language_info": {
   "codemirror_mode": {
    "name": "ipython",
    "version": 3
   },
   "file_extension": ".py",
   "mimetype": "text/x-python",
   "name": "python",
   "nbconvert_exporter": "python",
   "pygments_lexer": "ipython3",
   "version": "3.8.8"
  }
 },
 "nbformat": 4,
 "nbformat_minor": 5
}
